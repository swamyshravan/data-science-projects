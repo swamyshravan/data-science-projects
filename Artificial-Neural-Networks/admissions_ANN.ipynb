{
  "nbformat": 4,
  "nbformat_minor": 0,
  "metadata": {
    "colab": {
      "name": "admissions-ANN.ipynb",
      "provenance": [],
      "collapsed_sections": [],
      "authorship_tag": "ABX9TyNcjfZRrqpnr275Jack9xKG",
      "include_colab_link": true
    },
    "kernelspec": {
      "name": "python3",
      "display_name": "Python 3"
    },
    "language_info": {
      "name": "python"
    }
  },
  "cells": [
    {
      "cell_type": "markdown",
      "metadata": {
        "id": "view-in-github",
        "colab_type": "text"
      },
      "source": [
        "<a href=\"https://colab.research.google.com/github/swamyshravan/data-science-projects/blob/main/Artificial-Neural-Networks/admissions_ANN.ipynb\" target=\"_parent\"><img src=\"https://colab.research.google.com/assets/colab-badge.svg\" alt=\"Open In Colab\"/></a>"
      ]
    },
    {
      "cell_type": "code",
      "execution_count": 3,
      "metadata": {
        "id": "y92dxS34qeco"
      },
      "outputs": [],
      "source": [
        "import numpy as np\n",
        "import pandas as pd\n",
        "import tensorflow as tf"
      ]
    },
    {
      "cell_type": "markdown",
      "source": [
        "**Check tensorflow version**"
      ],
      "metadata": {
        "id": "OnLys0ybhA8T"
      }
    },
    {
      "cell_type": "code",
      "source": [
        "tf.__version__"
      ],
      "metadata": {
        "colab": {
          "base_uri": "https://localhost:8080/",
          "height": 35
        },
        "id": "f1KLffMHqyj7",
        "outputId": "a1edae5e-288d-494b-d793-c05f178365ee"
      },
      "execution_count": 4,
      "outputs": [
        {
          "output_type": "execute_result",
          "data": {
            "application/vnd.google.colaboratory.intrinsic+json": {
              "type": "string"
            },
            "text/plain": [
              "'2.7.0'"
            ]
          },
          "metadata": {},
          "execution_count": 4
        }
      ]
    },
    {
      "cell_type": "markdown",
      "source": [
        "**Read data from the test file**"
      ],
      "metadata": {
        "id": "KOu_mxXXhEll"
      }
    },
    {
      "cell_type": "code",
      "source": [
        "data = pd.read_table('admission.txt', sep='\\t')\n",
        "x = data.iloc[:,1:]\n",
        "y = data.iloc[:,0]\n",
        "#len(data)"
      ],
      "metadata": {
        "id": "-OYmNtlyqzoC"
      },
      "execution_count": 24,
      "outputs": []
    },
    {
      "cell_type": "markdown",
      "source": [
        "**Divide the dataset into training and testing data**"
      ],
      "metadata": {
        "id": "83w779LEhJeS"
      }
    },
    {
      "cell_type": "code",
      "source": [
        "from sklearn.model_selection import train_test_split\n",
        "x_train, x_test, y_train, y_test = train_test_split(x, y, test_size = 0.2, random_state=0)"
      ],
      "metadata": {
        "id": "vRLS08LWrABV"
      },
      "execution_count": 6,
      "outputs": []
    },
    {
      "cell_type": "markdown",
      "source": [
        "**Normalise the data**"
      ],
      "metadata": {
        "id": "26pxwvp2hUt4"
      }
    },
    {
      "cell_type": "code",
      "source": [
        "from sklearn.preprocessing import StandardScaler\n",
        "sc = StandardScaler()\n",
        "norm_train = sc.fit_transform(x_train)\n",
        "norm_test = sc.fit_transform(x_test)\n",
        "len(norm_train), len(norm_test)"
      ],
      "metadata": {
        "colab": {
          "base_uri": "https://localhost:8080/"
        },
        "id": "HqOchhWrruZk",
        "outputId": "4083a245-0bf2-4068-c779-c149fa545f75"
      },
      "execution_count": 7,
      "outputs": [
        {
          "output_type": "execute_result",
          "data": {
            "text/plain": [
              "(320, 80)"
            ]
          },
          "metadata": {},
          "execution_count": 7
        }
      ]
    },
    {
      "cell_type": "markdown",
      "source": [
        "**Building ANN**"
      ],
      "metadata": {
        "id": "Byln9VVphv2j"
      }
    },
    {
      "cell_type": "code",
      "source": [
        "model = tf.keras.models.Sequential()"
      ],
      "metadata": {
        "id": "RrolT1VJsll0"
      },
      "execution_count": 8,
      "outputs": []
    },
    {
      "cell_type": "code",
      "source": [
        "model.add(tf.keras.layers.Dense(units=6, activation='relu'))"
      ],
      "metadata": {
        "id": "QptTXiHusqSn"
      },
      "execution_count": 9,
      "outputs": []
    },
    {
      "cell_type": "code",
      "source": [
        "model.add(tf.keras.layers.Dense(units=36, activation='relu'))"
      ],
      "metadata": {
        "id": "SJUW_7JJu8fc"
      },
      "execution_count": 10,
      "outputs": []
    },
    {
      "cell_type": "code",
      "source": [
        "model.add(tf.keras.layers.Dense(units=1, activation='sigmoid'))"
      ],
      "metadata": {
        "id": "LscmXZMku9M4"
      },
      "execution_count": 11,
      "outputs": []
    },
    {
      "cell_type": "markdown",
      "source": [
        "Compiling the model"
      ],
      "metadata": {
        "id": "MF4OajVwiSF_"
      }
    },
    {
      "cell_type": "code",
      "source": [
        "model.compile(optimizer='adam', loss='binary_crossentropy', metrics=['accuracy'])"
      ],
      "metadata": {
        "id": "BgAqLoLHvMR4"
      },
      "execution_count": 12,
      "outputs": []
    },
    {
      "cell_type": "markdown",
      "source": [
        "Training the model"
      ],
      "metadata": {
        "id": "0qw7l1OTiWxp"
      }
    },
    {
      "cell_type": "code",
      "source": [
        "model.fit(x_train, y_train, batch_size=10, epochs=15)"
      ],
      "metadata": {
        "colab": {
          "base_uri": "https://localhost:8080/"
        },
        "id": "isIO3uvltbKA",
        "outputId": "f424cfc7-e24a-466d-dcf5-02ba77b9f0d4"
      },
      "execution_count": 13,
      "outputs": [
        {
          "output_type": "stream",
          "name": "stdout",
          "text": [
            "Epoch 1/15\n",
            "32/32 [==============================] - 1s 2ms/step - loss: 5.9886 - accuracy: 0.5437\n",
            "Epoch 2/15\n",
            "32/32 [==============================] - 0s 1ms/step - loss: 0.7369 - accuracy: 0.6375\n",
            "Epoch 3/15\n",
            "32/32 [==============================] - 0s 2ms/step - loss: 0.7686 - accuracy: 0.6156\n",
            "Epoch 4/15\n",
            "32/32 [==============================] - 0s 2ms/step - loss: 0.6724 - accuracy: 0.6656\n",
            "Epoch 5/15\n",
            "32/32 [==============================] - 0s 2ms/step - loss: 0.7120 - accuracy: 0.6250\n",
            "Epoch 6/15\n",
            "32/32 [==============================] - 0s 2ms/step - loss: 0.8496 - accuracy: 0.5875\n",
            "Epoch 7/15\n",
            "32/32 [==============================] - 0s 2ms/step - loss: 0.6656 - accuracy: 0.6313\n",
            "Epoch 8/15\n",
            "32/32 [==============================] - 0s 3ms/step - loss: 0.8999 - accuracy: 0.5688\n",
            "Epoch 9/15\n",
            "32/32 [==============================] - 0s 2ms/step - loss: 0.7740 - accuracy: 0.5781\n",
            "Epoch 10/15\n",
            "32/32 [==============================] - 0s 2ms/step - loss: 0.8334 - accuracy: 0.5781\n",
            "Epoch 11/15\n",
            "32/32 [==============================] - 0s 2ms/step - loss: 0.7550 - accuracy: 0.6062\n",
            "Epoch 12/15\n",
            "32/32 [==============================] - 0s 2ms/step - loss: 0.8552 - accuracy: 0.6313\n",
            "Epoch 13/15\n",
            "32/32 [==============================] - 0s 2ms/step - loss: 0.7217 - accuracy: 0.5969\n",
            "Epoch 14/15\n",
            "32/32 [==============================] - 0s 2ms/step - loss: 0.7271 - accuracy: 0.6031\n",
            "Epoch 15/15\n",
            "32/32 [==============================] - 0s 2ms/step - loss: 0.9940 - accuracy: 0.5625\n"
          ]
        },
        {
          "output_type": "execute_result",
          "data": {
            "text/plain": [
              "<keras.callbacks.History at 0x7f119ce4de50>"
            ]
          },
          "metadata": {},
          "execution_count": 13
        }
      ]
    },
    {
      "cell_type": "code",
      "source": [
        "#model.add(tf.keras.layers.Dense(units = 128, activation = 'relu', input_shape = (784,)))"
      ],
      "metadata": {
        "id": "rKLA3ZKRwVWH"
      },
      "execution_count": 14,
      "outputs": []
    },
    {
      "cell_type": "code",
      "source": [
        "#model.add(tf.keras.layers.Dropout(0.2))"
      ],
      "metadata": {
        "id": "qfScBH-RtC0I"
      },
      "execution_count": 15,
      "outputs": []
    },
    {
      "cell_type": "code",
      "source": [
        "#model.add(tf.keras.layers.Dense(units = 10, activation = 'softmax'))"
      ],
      "metadata": {
        "id": "eMH1NpSltO7l"
      },
      "execution_count": 16,
      "outputs": []
    },
    {
      "cell_type": "code",
      "source": [
        "#model.compile(optimizer = 'adam', loss = 'sparse_categorical_crossentropy', metrics = ['sparse_categorical_accuracy'])"
      ],
      "metadata": {
        "id": "aOpLsX0btWOg"
      },
      "execution_count": 17,
      "outputs": []
    },
    {
      "cell_type": "code",
      "source": [
        "#model.fit(x_train, y_train, epochs =15)"
      ],
      "metadata": {
        "id": "fDXqF4xIthFn"
      },
      "execution_count": 18,
      "outputs": []
    },
    {
      "cell_type": "markdown",
      "source": [
        "**Evaluating the model**"
      ],
      "metadata": {
        "id": "lFdjrdyzibpG"
      }
    },
    {
      "cell_type": "code",
      "source": [
        "test_loss, test_accuracy = model.evaluate(x_test, y_test)"
      ],
      "metadata": {
        "colab": {
          "base_uri": "https://localhost:8080/"
        },
        "id": "Aj2oZYfIwvmV",
        "outputId": "0bdb52e9-88b1-4151-c495-f24833073481"
      },
      "execution_count": 19,
      "outputs": [
        {
          "output_type": "stream",
          "name": "stdout",
          "text": [
            "3/3 [==============================] - 0s 4ms/step - loss: 0.7346 - accuracy: 0.6875\n"
          ]
        }
      ]
    },
    {
      "cell_type": "code",
      "source": [
        "ypred = (model.predict(norm_test)>= 0.5)"
      ],
      "metadata": {
        "id": "n-vcpydwyYiz"
      },
      "execution_count": 20,
      "outputs": []
    },
    {
      "cell_type": "code",
      "source": [
        "ypred.shape, y_test.shape"
      ],
      "metadata": {
        "colab": {
          "base_uri": "https://localhost:8080/"
        },
        "id": "N_zqxNJjzt7T",
        "outputId": "8ff224c0-ef35-4dc5-dd97-46780f110405"
      },
      "execution_count": 21,
      "outputs": [
        {
          "output_type": "execute_result",
          "data": {
            "text/plain": [
              "((80, 1), (80,))"
            ]
          },
          "metadata": {},
          "execution_count": 21
        }
      ]
    },
    {
      "cell_type": "markdown",
      "source": [
        "**Creting a confusion matrix**"
      ],
      "metadata": {
        "id": "sdt1Kq0titJe"
      }
    },
    {
      "cell_type": "code",
      "source": [
        "from sklearn.metrics import confusion_matrix, classification_report, ConfusionMatrixDisplay\n",
        "cm = confusion_matrix(y_test, ypred)\n",
        "cmd = ConfusionMatrixDisplay(cm, display_labels=['Actual','Predicted'])\n",
        "cmd.plot()\n",
        "cr = classification_report(y_test, ypred)\n",
        "print(cr)"
      ],
      "metadata": {
        "colab": {
          "base_uri": "https://localhost:8080/",
          "height": 435
        },
        "id": "O1mBkP69yKE5",
        "outputId": "2490e441-2051-446f-e16e-237d7aa99a01"
      },
      "execution_count": 27,
      "outputs": [
        {
          "output_type": "stream",
          "name": "stdout",
          "text": [
            "              precision    recall  f1-score   support\n",
            "\n",
            "           0       0.73      0.75      0.74        55\n",
            "           1       0.42      0.40      0.41        25\n",
            "\n",
            "    accuracy                           0.64        80\n",
            "   macro avg       0.57      0.57      0.57        80\n",
            "weighted avg       0.63      0.64      0.64        80\n",
            "\n"
          ]
        },
        {
          "output_type": "display_data",
          "data": {
            "image/png": "[encoded data removed]",
            "text/plain": [
              "<Figure size 432x288 with 2 Axes>"
            ]
          },
          "metadata": {
            "needs_background": "light"
          }
        }
      ]
    }
  ]
}