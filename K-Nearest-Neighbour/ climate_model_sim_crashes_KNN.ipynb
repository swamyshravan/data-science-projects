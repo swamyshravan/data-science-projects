{
  "cells": [
    {
      "cell_type": "markdown",
      "metadata": {
        "id": "view-in-github",
        "colab_type": "text"
      },
      "source": [
        "<a href=\"https://colab.research.google.com/github/swamyshravan/data-science-projects/blob/main/K-Nearest-Neighbour/%20climate_model_sim_crashes_KNN.ipynb\" target=\"_parent\"><img src=\"https://colab.research.google.com/assets/colab-badge.svg\" alt=\"Open In Colab\"/></a>"
      ]
    },
    {
      "cell_type": "code",
      "execution_count": 57,
      "metadata": {
        "id": "MCwQ97nV-hKg"
      },
      "outputs": [],
      "source": [
        "import pandas as pd\n",
        "import numpy as np\n",
        "import matplotlib.pyplot as plt"
      ]
    },
    {
      "cell_type": "markdown",
      "source": [
        "**Loading data from a CSV file**"
      ],
      "metadata": {
        "id": "GfdHpFg8zvmN"
      }
    },
    {
      "cell_type": "code",
      "execution_count": 58,
      "metadata": {
        "id": "0ZxGLnJe-hKk",
        "colab": {
          "base_uri": "https://localhost:8080/",
          "height": 270
        },
        "outputId": "1954dc5d-5681-4a15-cd35-ecdca029aa9c"
      },
      "outputs": [
        {
          "output_type": "execute_result",
          "data": {
            "text/html": [
              "\n",
              "  <div id=\"df-74aad67a-7b4b-4d1f-a6d8-a87d2c7341ca\">\n",
              "    <div class=\"colab-df-container\">\n",
              "      <div>\n",
              "<style scoped>\n",
              "    .dataframe tbody tr th:only-of-type {\n",
              "        vertical-align: middle;\n",
              "    }\n",
              "\n",
              "    .dataframe tbody tr th {\n",
              "        vertical-align: top;\n",
              "    }\n",
              "\n",
              "    .dataframe thead th {\n",
              "        text-align: right;\n",
              "    }\n",
              "</style>\n",
              "<table border=\"1\" class=\"dataframe\">\n",
              "  <thead>\n",
              "    <tr style=\"text-align: right;\">\n",
              "      <th></th>\n",
              "      <th>Study</th>\n",
              "      <th>Run</th>\n",
              "      <th>vconst_corr</th>\n",
              "      <th>vconst_2</th>\n",
              "      <th>vconst_3</th>\n",
              "      <th>vconst_4</th>\n",
              "      <th>vconst_5</th>\n",
              "      <th>vconst_7</th>\n",
              "      <th>ah_corr</th>\n",
              "      <th>ah_bolus</th>\n",
              "      <th>slm_corr</th>\n",
              "      <th>efficiency_factor</th>\n",
              "      <th>tidal_mix_max</th>\n",
              "      <th>vertical_decay_scale</th>\n",
              "      <th>convect_corr</th>\n",
              "      <th>bckgrnd_vdc1</th>\n",
              "      <th>bckgrnd_vdc_ban</th>\n",
              "      <th>bckgrnd_vdc_eq</th>\n",
              "      <th>bckgrnd_vdc_psim</th>\n",
              "      <th>Prandtl</th>\n",
              "      <th>outcome</th>\n",
              "    </tr>\n",
              "  </thead>\n",
              "  <tbody>\n",
              "    <tr>\n",
              "      <th>0</th>\n",
              "      <td>1</td>\n",
              "      <td>1</td>\n",
              "      <td>0.859036</td>\n",
              "      <td>0.927825</td>\n",
              "      <td>0.252866</td>\n",
              "      <td>0.298838</td>\n",
              "      <td>0.170521</td>\n",
              "      <td>0.735936</td>\n",
              "      <td>0.428325</td>\n",
              "      <td>0.567947</td>\n",
              "      <td>0.474370</td>\n",
              "      <td>0.245675</td>\n",
              "      <td>0.104226</td>\n",
              "      <td>0.869091</td>\n",
              "      <td>0.997518</td>\n",
              "      <td>0.448620</td>\n",
              "      <td>0.307522</td>\n",
              "      <td>0.858310</td>\n",
              "      <td>0.796997</td>\n",
              "      <td>0.869893</td>\n",
              "      <td>0</td>\n",
              "    </tr>\n",
              "    <tr>\n",
              "      <th>1</th>\n",
              "      <td>1</td>\n",
              "      <td>2</td>\n",
              "      <td>0.606041</td>\n",
              "      <td>0.457728</td>\n",
              "      <td>0.359448</td>\n",
              "      <td>0.306957</td>\n",
              "      <td>0.843331</td>\n",
              "      <td>0.934851</td>\n",
              "      <td>0.444572</td>\n",
              "      <td>0.828015</td>\n",
              "      <td>0.296618</td>\n",
              "      <td>0.616870</td>\n",
              "      <td>0.975786</td>\n",
              "      <td>0.914344</td>\n",
              "      <td>0.845247</td>\n",
              "      <td>0.864152</td>\n",
              "      <td>0.346713</td>\n",
              "      <td>0.356573</td>\n",
              "      <td>0.438447</td>\n",
              "      <td>0.512256</td>\n",
              "      <td>1</td>\n",
              "    </tr>\n",
              "    <tr>\n",
              "      <th>2</th>\n",
              "      <td>1</td>\n",
              "      <td>3</td>\n",
              "      <td>0.997600</td>\n",
              "      <td>0.373238</td>\n",
              "      <td>0.517399</td>\n",
              "      <td>0.504993</td>\n",
              "      <td>0.618903</td>\n",
              "      <td>0.605571</td>\n",
              "      <td>0.746225</td>\n",
              "      <td>0.195928</td>\n",
              "      <td>0.815667</td>\n",
              "      <td>0.679355</td>\n",
              "      <td>0.803413</td>\n",
              "      <td>0.643995</td>\n",
              "      <td>0.718441</td>\n",
              "      <td>0.924775</td>\n",
              "      <td>0.315371</td>\n",
              "      <td>0.250642</td>\n",
              "      <td>0.285636</td>\n",
              "      <td>0.365858</td>\n",
              "      <td>1</td>\n",
              "    </tr>\n",
              "    <tr>\n",
              "      <th>3</th>\n",
              "      <td>1</td>\n",
              "      <td>4</td>\n",
              "      <td>0.783408</td>\n",
              "      <td>0.104055</td>\n",
              "      <td>0.197533</td>\n",
              "      <td>0.421837</td>\n",
              "      <td>0.742056</td>\n",
              "      <td>0.490828</td>\n",
              "      <td>0.005525</td>\n",
              "      <td>0.392123</td>\n",
              "      <td>0.010015</td>\n",
              "      <td>0.471463</td>\n",
              "      <td>0.597879</td>\n",
              "      <td>0.761659</td>\n",
              "      <td>0.362751</td>\n",
              "      <td>0.912819</td>\n",
              "      <td>0.977971</td>\n",
              "      <td>0.845921</td>\n",
              "      <td>0.699431</td>\n",
              "      <td>0.475987</td>\n",
              "      <td>1</td>\n",
              "    </tr>\n",
              "    <tr>\n",
              "      <th>4</th>\n",
              "      <td>1</td>\n",
              "      <td>5</td>\n",
              "      <td>0.406250</td>\n",
              "      <td>0.513199</td>\n",
              "      <td>0.061812</td>\n",
              "      <td>0.635837</td>\n",
              "      <td>0.844798</td>\n",
              "      <td>0.441502</td>\n",
              "      <td>0.191926</td>\n",
              "      <td>0.487546</td>\n",
              "      <td>0.358534</td>\n",
              "      <td>0.551543</td>\n",
              "      <td>0.743877</td>\n",
              "      <td>0.312349</td>\n",
              "      <td>0.650223</td>\n",
              "      <td>0.522261</td>\n",
              "      <td>0.043545</td>\n",
              "      <td>0.376660</td>\n",
              "      <td>0.280098</td>\n",
              "      <td>0.132283</td>\n",
              "      <td>1</td>\n",
              "    </tr>\n",
              "  </tbody>\n",
              "</table>\n",
              "</div>\n",
              "      <button class=\"colab-df-convert\" onclick=\"convertToInteractive('df-74aad67a-7b4b-4d1f-a6d8-a87d2c7341ca')\"\n",
              "              title=\"Convert this dataframe to an interactive table.\"\n",
              "              style=\"display:none;\">\n",
              "        \n",
              "  <svg xmlns=\"http://www.w3.org/2000/svg\" height=\"24px\"viewBox=\"0 0 24 24\"\n",
              "       width=\"24px\">\n",
              "    <path d=\"M0 0h24v24H0V0z\" fill=\"none\"/>\n",
              "    <path d=\"M18.56 5.44l.94 2.06.94-2.06 2.06-.94-2.06-.94-.94-2.06-.94 2.06-2.06.94zm-11 1L8.5 8.5l.94-2.06 2.06-.94-2.06-.94L8.5 2.5l-.94 2.06-2.06.94zm10 10l.94 2.06.94-2.06 2.06-.94-2.06-.94-.94-2.06-.94 2.06-2.06.94z\"/><path d=\"M17.41 7.96l-1.37-1.37c-.4-.4-.92-.59-1.43-.59-.52 0-1.04.2-1.43.59L10.3 9.45l-7.72 7.72c-.78.78-.78 2.05 0 2.83L4 21.41c.39.39.9.59 1.41.59.51 0 1.02-.2 1.41-.59l7.78-7.78 2.81-2.81c.8-.78.8-2.07 0-2.86zM5.41 20L4 18.59l7.72-7.72 1.47 1.35L5.41 20z\"/>\n",
              "  </svg>\n",
              "      </button>\n",
              "      \n",
              "  <style>\n",
              "    .colab-df-container {\n",
              "      display:flex;\n",
              "      flex-wrap:wrap;\n",
              "      gap: 12px;\n",
              "    }\n",
              "\n",
              "    .colab-df-convert {\n",
              "      background-color: #E8F0FE;\n",
              "      border: none;\n",
              "      border-radius: 50%;\n",
              "      cursor: pointer;\n",
              "      display: none;\n",
              "      fill: #1967D2;\n",
              "      height: 32px;\n",
              "      padding: 0 0 0 0;\n",
              "      width: 32px;\n",
              "    }\n",
              "\n",
              "    .colab-df-convert:hover {\n",
              "      background-color: #E2EBFA;\n",
              "      box-shadow: 0px 1px 2px rgba(60, 64, 67, 0.3), 0px 1px 3px 1px rgba(60, 64, 67, 0.15);\n",
              "      fill: #174EA6;\n",
              "    }\n",
              "\n",
              "    [theme=dark] .colab-df-convert {\n",
              "      background-color: #3B4455;\n",
              "      fill: #D2E3FC;\n",
              "    }\n",
              "\n",
              "    [theme=dark] .colab-df-convert:hover {\n",
              "      background-color: #434B5C;\n",
              "      box-shadow: 0px 1px 3px 1px rgba(0, 0, 0, 0.15);\n",
              "      filter: drop-shadow(0px 1px 2px rgba(0, 0, 0, 0.3));\n",
              "      fill: #FFFFFF;\n",
              "    }\n",
              "  </style>\n",
              "\n",
              "      <script>\n",
              "        const buttonEl =\n",
              "          document.querySelector('#df-74aad67a-7b4b-4d1f-a6d8-a87d2c7341ca button.colab-df-convert');\n",
              "        buttonEl.style.display =\n",
              "          google.colab.kernel.accessAllowed ? 'block' : 'none';\n",
              "\n",
              "        async function convertToInteractive(key) {\n",
              "          const element = document.querySelector('#df-74aad67a-7b4b-4d1f-a6d8-a87d2c7341ca');\n",
              "          const dataTable =\n",
              "            await google.colab.kernel.invokeFunction('convertToInteractive',\n",
              "                                                     [key], {});\n",
              "          if (!dataTable) return;\n",
              "\n",
              "          const docLinkHtml = 'Like what you see? Visit the ' +\n",
              "            '<a target=\"_blank\" href=https://colab.research.google.com/notebooks/data_table.ipynb>data table notebook</a>'\n",
              "            + ' to learn more about interactive tables.';\n",
              "          element.innerHTML = '';\n",
              "          dataTable['output_type'] = 'display_data';\n",
              "          await google.colab.output.renderOutput(dataTable, element);\n",
              "          const docLink = document.createElement('div');\n",
              "          docLink.innerHTML = docLinkHtml;\n",
              "          element.appendChild(docLink);\n",
              "        }\n",
              "      </script>\n",
              "    </div>\n",
              "  </div>\n",
              "  "
            ],
            "text/plain": [
              "   Study  Run  vconst_corr  ...  bckgrnd_vdc_psim   Prandtl  outcome\n",
              "0      1    1     0.859036  ...          0.796997  0.869893        0\n",
              "1      1    2     0.606041  ...          0.438447  0.512256        1\n",
              "2      1    3     0.997600  ...          0.285636  0.365858        1\n",
              "3      1    4     0.783408  ...          0.699431  0.475987        1\n",
              "4      1    5     0.406250  ...          0.280098  0.132283        1\n",
              "\n",
              "[5 rows x 21 columns]"
            ]
          },
          "metadata": {},
          "execution_count": 58
        }
      ],
      "source": [
        "data =  pd.read_csv('cmsc.csv')\n",
        "data.head()"
      ]
    },
    {
      "cell_type": "markdown",
      "source": [
        "**Seperating the input and output variables from the data**"
      ],
      "metadata": {
        "id": "Ujwtz35t0vj-"
      }
    },
    {
      "cell_type": "code",
      "execution_count": 59,
      "metadata": {
        "id": "mblZh5nY-hKl"
      },
      "outputs": [],
      "source": [
        "X = data.iloc[:,2:20]\n",
        "y = data.iloc[:,20]"
      ]
    },
    {
      "cell_type": "code",
      "execution_count": 60,
      "metadata": {
        "id": "mEeu0-O3-hKm",
        "outputId": "a460116d-f296-427d-e469-3ab574d8d674",
        "colab": {
          "base_uri": "https://localhost:8080/",
          "height": 176
        }
      },
      "outputs": [
        {
          "output_type": "execute_result",
          "data": {
            "text/html": [
              "\n",
              "  <div id=\"df-0d1e02fb-476d-4284-a246-9ab4f658babf\">\n",
              "    <div class=\"colab-df-container\">\n",
              "      <div>\n",
              "<style scoped>\n",
              "    .dataframe tbody tr th:only-of-type {\n",
              "        vertical-align: middle;\n",
              "    }\n",
              "\n",
              "    .dataframe tbody tr th {\n",
              "        vertical-align: top;\n",
              "    }\n",
              "\n",
              "    .dataframe thead th {\n",
              "        text-align: right;\n",
              "    }\n",
              "</style>\n",
              "<table border=\"1\" class=\"dataframe\">\n",
              "  <thead>\n",
              "    <tr style=\"text-align: right;\">\n",
              "      <th></th>\n",
              "      <th>vconst_corr</th>\n",
              "      <th>vconst_2</th>\n",
              "      <th>vconst_3</th>\n",
              "      <th>vconst_4</th>\n",
              "      <th>vconst_5</th>\n",
              "      <th>vconst_7</th>\n",
              "      <th>ah_corr</th>\n",
              "      <th>ah_bolus</th>\n",
              "      <th>slm_corr</th>\n",
              "      <th>efficiency_factor</th>\n",
              "      <th>tidal_mix_max</th>\n",
              "      <th>vertical_decay_scale</th>\n",
              "      <th>convect_corr</th>\n",
              "      <th>bckgrnd_vdc1</th>\n",
              "      <th>bckgrnd_vdc_ban</th>\n",
              "      <th>bckgrnd_vdc_eq</th>\n",
              "      <th>bckgrnd_vdc_psim</th>\n",
              "      <th>Prandtl</th>\n",
              "    </tr>\n",
              "  </thead>\n",
              "  <tbody>\n",
              "    <tr>\n",
              "      <th>0</th>\n",
              "      <td>0.859036</td>\n",
              "      <td>0.927825</td>\n",
              "      <td>0.252866</td>\n",
              "      <td>0.298838</td>\n",
              "      <td>0.170521</td>\n",
              "      <td>0.735936</td>\n",
              "      <td>0.428325</td>\n",
              "      <td>0.567947</td>\n",
              "      <td>0.474370</td>\n",
              "      <td>0.245675</td>\n",
              "      <td>0.104226</td>\n",
              "      <td>0.869091</td>\n",
              "      <td>0.997518</td>\n",
              "      <td>0.448620</td>\n",
              "      <td>0.307522</td>\n",
              "      <td>0.858310</td>\n",
              "      <td>0.796997</td>\n",
              "      <td>0.869893</td>\n",
              "    </tr>\n",
              "    <tr>\n",
              "      <th>1</th>\n",
              "      <td>0.606041</td>\n",
              "      <td>0.457728</td>\n",
              "      <td>0.359448</td>\n",
              "      <td>0.306957</td>\n",
              "      <td>0.843331</td>\n",
              "      <td>0.934851</td>\n",
              "      <td>0.444572</td>\n",
              "      <td>0.828015</td>\n",
              "      <td>0.296618</td>\n",
              "      <td>0.616870</td>\n",
              "      <td>0.975786</td>\n",
              "      <td>0.914344</td>\n",
              "      <td>0.845247</td>\n",
              "      <td>0.864152</td>\n",
              "      <td>0.346713</td>\n",
              "      <td>0.356573</td>\n",
              "      <td>0.438447</td>\n",
              "      <td>0.512256</td>\n",
              "    </tr>\n",
              "  </tbody>\n",
              "</table>\n",
              "</div>\n",
              "      <button class=\"colab-df-convert\" onclick=\"convertToInteractive('df-0d1e02fb-476d-4284-a246-9ab4f658babf')\"\n",
              "              title=\"Convert this dataframe to an interactive table.\"\n",
              "              style=\"display:none;\">\n",
              "        \n",
              "  <svg xmlns=\"http://www.w3.org/2000/svg\" height=\"24px\"viewBox=\"0 0 24 24\"\n",
              "       width=\"24px\">\n",
              "    <path d=\"M0 0h24v24H0V0z\" fill=\"none\"/>\n",
              "    <path d=\"M18.56 5.44l.94 2.06.94-2.06 2.06-.94-2.06-.94-.94-2.06-.94 2.06-2.06.94zm-11 1L8.5 8.5l.94-2.06 2.06-.94-2.06-.94L8.5 2.5l-.94 2.06-2.06.94zm10 10l.94 2.06.94-2.06 2.06-.94-2.06-.94-.94-2.06-.94 2.06-2.06.94z\"/><path d=\"M17.41 7.96l-1.37-1.37c-.4-.4-.92-.59-1.43-.59-.52 0-1.04.2-1.43.59L10.3 9.45l-7.72 7.72c-.78.78-.78 2.05 0 2.83L4 21.41c.39.39.9.59 1.41.59.51 0 1.02-.2 1.41-.59l7.78-7.78 2.81-2.81c.8-.78.8-2.07 0-2.86zM5.41 20L4 18.59l7.72-7.72 1.47 1.35L5.41 20z\"/>\n",
              "  </svg>\n",
              "      </button>\n",
              "      \n",
              "  <style>\n",
              "    .colab-df-container {\n",
              "      display:flex;\n",
              "      flex-wrap:wrap;\n",
              "      gap: 12px;\n",
              "    }\n",
              "\n",
              "    .colab-df-convert {\n",
              "      background-color: #E8F0FE;\n",
              "      border: none;\n",
              "      border-radius: 50%;\n",
              "      cursor: pointer;\n",
              "      display: none;\n",
              "      fill: #1967D2;\n",
              "      height: 32px;\n",
              "      padding: 0 0 0 0;\n",
              "      width: 32px;\n",
              "    }\n",
              "\n",
              "    .colab-df-convert:hover {\n",
              "      background-color: #E2EBFA;\n",
              "      box-shadow: 0px 1px 2px rgba(60, 64, 67, 0.3), 0px 1px 3px 1px rgba(60, 64, 67, 0.15);\n",
              "      fill: #174EA6;\n",
              "    }\n",
              "\n",
              "    [theme=dark] .colab-df-convert {\n",
              "      background-color: #3B4455;\n",
              "      fill: #D2E3FC;\n",
              "    }\n",
              "\n",
              "    [theme=dark] .colab-df-convert:hover {\n",
              "      background-color: #434B5C;\n",
              "      box-shadow: 0px 1px 3px 1px rgba(0, 0, 0, 0.15);\n",
              "      filter: drop-shadow(0px 1px 2px rgba(0, 0, 0, 0.3));\n",
              "      fill: #FFFFFF;\n",
              "    }\n",
              "  </style>\n",
              "\n",
              "      <script>\n",
              "        const buttonEl =\n",
              "          document.querySelector('#df-0d1e02fb-476d-4284-a246-9ab4f658babf button.colab-df-convert');\n",
              "        buttonEl.style.display =\n",
              "          google.colab.kernel.accessAllowed ? 'block' : 'none';\n",
              "\n",
              "        async function convertToInteractive(key) {\n",
              "          const element = document.querySelector('#df-0d1e02fb-476d-4284-a246-9ab4f658babf');\n",
              "          const dataTable =\n",
              "            await google.colab.kernel.invokeFunction('convertToInteractive',\n",
              "                                                     [key], {});\n",
              "          if (!dataTable) return;\n",
              "\n",
              "          const docLinkHtml = 'Like what you see? Visit the ' +\n",
              "            '<a target=\"_blank\" href=https://colab.research.google.com/notebooks/data_table.ipynb>data table notebook</a>'\n",
              "            + ' to learn more about interactive tables.';\n",
              "          element.innerHTML = '';\n",
              "          dataTable['output_type'] = 'display_data';\n",
              "          await google.colab.output.renderOutput(dataTable, element);\n",
              "          const docLink = document.createElement('div');\n",
              "          docLink.innerHTML = docLinkHtml;\n",
              "          element.appendChild(docLink);\n",
              "        }\n",
              "      </script>\n",
              "    </div>\n",
              "  </div>\n",
              "  "
            ],
            "text/plain": [
              "   vconst_corr  vconst_2  vconst_3  ...  bckgrnd_vdc_eq  bckgrnd_vdc_psim   Prandtl\n",
              "0     0.859036  0.927825  0.252866  ...        0.858310          0.796997  0.869893\n",
              "1     0.606041  0.457728  0.359448  ...        0.356573          0.438447  0.512256\n",
              "\n",
              "[2 rows x 18 columns]"
            ]
          },
          "metadata": {},
          "execution_count": 60
        }
      ],
      "source": [
        "X.head(2)"
      ]
    },
    {
      "cell_type": "markdown",
      "source": [
        "**Dividing data into training and testing datasets**"
      ],
      "metadata": {
        "id": "LJXLN4Y90id6"
      }
    },
    {
      "cell_type": "code",
      "execution_count": 61,
      "metadata": {
        "id": "D8r3NKdQ-hKo"
      },
      "outputs": [],
      "source": [
        "from sklearn.model_selection import train_test_split\n",
        "X_train, X_test, y_train, y_test = train_test_split(X, y, test_size=0.20)"
      ]
    },
    {
      "cell_type": "code",
      "source": [
        "len(X_train), len(X_test)"
      ],
      "metadata": {
        "colab": {
          "base_uri": "https://localhost:8080/"
        },
        "id": "noUkDWq1tmFj",
        "outputId": "9b5c2328-cabd-4384-dcec-ec15efb6751b"
      },
      "execution_count": 62,
      "outputs": [
        {
          "output_type": "execute_result",
          "data": {
            "text/plain": [
              "(432, 108)"
            ]
          },
          "metadata": {},
          "execution_count": 62
        }
      ]
    },
    {
      "cell_type": "markdown",
      "source": [
        "**Applying a KNN model with K=5**"
      ],
      "metadata": {
        "id": "VhWl3Xyv07vc"
      }
    },
    {
      "cell_type": "code",
      "execution_count": 63,
      "metadata": {
        "id": "ByvKEykB-hKq",
        "outputId": "50463cb4-655d-415d-c22d-7fa89a3e01ec",
        "colab": {
          "base_uri": "https://localhost:8080/"
        }
      },
      "outputs": [
        {
          "output_type": "execute_result",
          "data": {
            "text/plain": [
              "KNeighborsClassifier()"
            ]
          },
          "metadata": {},
          "execution_count": 63
        }
      ],
      "source": [
        "from sklearn.neighbors import KNeighborsClassifier\n",
        "classifier = KNeighborsClassifier(n_neighbors=5)\n",
        "classifier.fit(X_train, y_train)"
      ]
    },
    {
      "cell_type": "markdown",
      "source": [
        "**Predicting out test data from the model we created**"
      ],
      "metadata": {
        "id": "C2CSMiPx1GyG"
      }
    },
    {
      "cell_type": "code",
      "execution_count": 64,
      "metadata": {
        "id": "pS2Wy0R6-hKr"
      },
      "outputs": [],
      "source": [
        "y_pred = classifier.predict(X_test)"
      ]
    },
    {
      "cell_type": "markdown",
      "source": [
        "**Using confusion matrix to visualise predicted and acutal outcomes**"
      ],
      "metadata": {
        "id": "6e1XtuI61Xiv"
      }
    },
    {
      "cell_type": "code",
      "execution_count": 65,
      "metadata": {
        "id": "fHk6iB0B-hKs",
        "outputId": "6e5c96ce-c926-4a93-937a-9695133fa25e",
        "colab": {
          "base_uri": "https://localhost:8080/",
          "height": 296
        }
      },
      "outputs": [
        {
          "output_type": "execute_result",
          "data": {
            "text/plain": [
              "<matplotlib.axes._subplots.AxesSubplot at 0x7f18b35e5150>"
            ]
          },
          "metadata": {},
          "execution_count": 65
        },
        {
          "output_type": "display_data",
          "data": {
            "image/png": "[encoded data removed]",
            "text/plain": [
              "<Figure size 432x288 with 2 Axes>"
            ]
          },
          "metadata": {
            "needs_background": "light"
          }
        }
      ],
      "source": [
        "import seaborn as sn\n",
        "confusion_matrix = pd.crosstab(y_test, y_pred, rownames=['Actual'], colnames=['predicted'])\n",
        "sn.heatmap(confusion_matrix, annot=True)"
      ]
    },
    {
      "cell_type": "markdown",
      "source": [
        "**Creating a program to find error for different N values**"
      ],
      "metadata": {
        "id": "0jLGw9KL1umZ"
      }
    },
    {
      "cell_type": "code",
      "execution_count": 66,
      "metadata": {
        "id": "H_eFqgZU-hKt"
      },
      "outputs": [],
      "source": [
        "error = []\n",
        "\n",
        "# Calculating error for K values between 1 and 40\n",
        "for i in range(1, 40):\n",
        "    knn = KNeighborsClassifier(n_neighbors=i)\n",
        "    knn.fit(X_train, y_train)\n",
        "    pred_i = knn.predict(X_test)\n",
        "    error.append(np.mean(pred_i != y_test))"
      ]
    },
    {
      "cell_type": "markdown",
      "source": [
        "**Plotting the error rate for different K values**"
      ],
      "metadata": {
        "id": "4RJA5yia16Nl"
      }
    },
    {
      "cell_type": "code",
      "execution_count": 67,
      "metadata": {
        "id": "1XP1ORTO-hKt",
        "outputId": "a8fd1e1b-e81b-47c3-cf32-62dfe4e5a0da",
        "colab": {
          "base_uri": "https://localhost:8080/",
          "height": 421
        }
      },
      "outputs": [
        {
          "output_type": "execute_result",
          "data": {
            "text/plain": [
              "Text(0, 0.5, 'Mean Error')"
            ]
          },
          "metadata": {},
          "execution_count": 67
        },
        {
          "output_type": "display_data",
          "data": {
            "image/png": "[encoded data removed]",
            "text/plain": [
              "<Figure size 864x432 with 1 Axes>"
            ]
          },
          "metadata": {
            "needs_background": "light"
          }
        }
      ],
      "source": [
        "plt.figure(figsize=(12, 6))\n",
        "plt.plot(range(1, 40), error, color='red', linestyle='dashed', marker='o',\n",
        "         markerfacecolor='blue', markersize=10)\n",
        "plt.title('Error Rate K Value')\n",
        "plt.xlabel('K Value')\n",
        "plt.ylabel('Mean Error')"
      ]
    }
  ],
  "metadata": {
    "kernelspec": {
      "display_name": "Python 3",
      "language": "python",
      "name": "python3"
    },
    "language_info": {
      "codemirror_mode": {
        "name": "ipython",
        "version": 3
      },
      "file_extension": ".py",
      "mimetype": "text/x-python",
      "name": "python",
      "nbconvert_exporter": "python",
      "pygments_lexer": "ipython3",
      "version": "3.7.6"
    },
    "colab": {
      "name": "climate-model-sim-crashes_KNN.ipynb",
      "provenance": [],
      "include_colab_link": true
    }
  },
  "nbformat": 4,
  "nbformat_minor": 0
}