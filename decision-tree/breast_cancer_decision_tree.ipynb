{
  "nbformat": 4,
  "nbformat_minor": 0,
  "metadata": {
    "colab": {
      "name": "breast-cancer_decision-tree.ipynb",
      "provenance": [],
      "authorship_tag": "ABX9TyMhHa8GrvCsWIek8RwaPGzq",
      "include_colab_link": true
    },
    "kernelspec": {
      "name": "python3",
      "display_name": "Python 3"
    },
    "language_info": {
      "name": "python"
    }
  },
  "cells": [
    {
      "cell_type": "markdown",
      "metadata": {
        "id": "view-in-github",
        "colab_type": "text"
      },
      "source": [
        "<a href=\"https://colab.research.google.com/github/swamyshravan/data-science-projects/blob/main/decision-tree/breast_cancer_decision_tree.ipynb\" target=\"_parent\"><img src=\"https://colab.research.google.com/assets/colab-badge.svg\" alt=\"Open In Colab\"/></a>"
      ]
    },
    {
      "cell_type": "code",
      "execution_count": 47,
      "metadata": {
        "id": "vtt3fYetB_TK"
      },
      "outputs": [],
      "source": [
        "import numpy as np\n",
        "import pandas as pd"
      ]
    },
    {
      "cell_type": "markdown",
      "source": [
        "**Load data**"
      ],
      "metadata": {
        "id": "OLn8-bAtIsKe"
      }
    },
    {
      "cell_type": "code",
      "source": [
        "data = pd.read_csv('wisc_bc_data.csv')\n",
        "data.head(3)"
      ],
      "metadata": {
        "colab": {
          "base_uri": "https://localhost:8080/",
          "height": 225
        },
        "id": "40DO4DJ6CnFS",
        "outputId": "b057b0fc-6682-40b0-dfc6-9472813c09e1"
      },
      "execution_count": 48,
      "outputs": [
        {
          "output_type": "execute_result",
          "data": {
            "text/html": [
              "\n",
              "  <div id=\"df-b17f03e2-aa31-4ac9-9cde-4ab14617b434\">\n",
              "    <div class=\"colab-df-container\">\n",
              "      <div>\n",
              "<style scoped>\n",
              "    .dataframe tbody tr th:only-of-type {\n",
              "        vertical-align: middle;\n",
              "    }\n",
              "\n",
              "    .dataframe tbody tr th {\n",
              "        vertical-align: top;\n",
              "    }\n",
              "\n",
              "    .dataframe thead th {\n",
              "        text-align: right;\n",
              "    }\n",
              "</style>\n",
              "<table border=\"1\" class=\"dataframe\">\n",
              "  <thead>\n",
              "    <tr style=\"text-align: right;\">\n",
              "      <th></th>\n",
              "      <th>id</th>\n",
              "      <th>diagnosis</th>\n",
              "      <th>radius_mean</th>\n",
              "      <th>texture_mean</th>\n",
              "      <th>perimeter_mean</th>\n",
              "      <th>area_mean</th>\n",
              "      <th>smoothness_mean</th>\n",
              "      <th>compactness_mean</th>\n",
              "      <th>concavity_mean</th>\n",
              "      <th>concave points_mean</th>\n",
              "      <th>symmetry_mean</th>\n",
              "      <th>fractal_dimension_mean</th>\n",
              "      <th>radius_se</th>\n",
              "      <th>texture_se</th>\n",
              "      <th>perimeter_se</th>\n",
              "      <th>area_se</th>\n",
              "      <th>smoothness_se</th>\n",
              "      <th>compactness_se</th>\n",
              "      <th>concavity_se</th>\n",
              "      <th>concave points_se</th>\n",
              "      <th>symmetry_se</th>\n",
              "      <th>fractal_dimension_se</th>\n",
              "      <th>radius_worst</th>\n",
              "      <th>texture_worst</th>\n",
              "      <th>perimeter_worst</th>\n",
              "      <th>area_worst</th>\n",
              "      <th>smoothness_worst</th>\n",
              "      <th>compactness_worst</th>\n",
              "      <th>concavity_worst</th>\n",
              "      <th>concave points_worst</th>\n",
              "      <th>symmetry_worst</th>\n",
              "      <th>fractal_dimension_worst</th>\n",
              "    </tr>\n",
              "  </thead>\n",
              "  <tbody>\n",
              "    <tr>\n",
              "      <th>0</th>\n",
              "      <td>842302</td>\n",
              "      <td>M</td>\n",
              "      <td>17.99</td>\n",
              "      <td>10.38</td>\n",
              "      <td>122.8</td>\n",
              "      <td>1001.0</td>\n",
              "      <td>0.11840</td>\n",
              "      <td>0.27760</td>\n",
              "      <td>0.3001</td>\n",
              "      <td>0.14710</td>\n",
              "      <td>0.2419</td>\n",
              "      <td>0.07871</td>\n",
              "      <td>1.0950</td>\n",
              "      <td>0.9053</td>\n",
              "      <td>8.589</td>\n",
              "      <td>153.40</td>\n",
              "      <td>0.006399</td>\n",
              "      <td>0.04904</td>\n",
              "      <td>0.05373</td>\n",
              "      <td>0.01587</td>\n",
              "      <td>0.03003</td>\n",
              "      <td>0.006193</td>\n",
              "      <td>25.38</td>\n",
              "      <td>17.33</td>\n",
              "      <td>184.6</td>\n",
              "      <td>2019.0</td>\n",
              "      <td>0.1622</td>\n",
              "      <td>0.6656</td>\n",
              "      <td>0.7119</td>\n",
              "      <td>0.2654</td>\n",
              "      <td>0.4601</td>\n",
              "      <td>0.11890</td>\n",
              "    </tr>\n",
              "    <tr>\n",
              "      <th>1</th>\n",
              "      <td>842517</td>\n",
              "      <td>M</td>\n",
              "      <td>20.57</td>\n",
              "      <td>17.77</td>\n",
              "      <td>132.9</td>\n",
              "      <td>1326.0</td>\n",
              "      <td>0.08474</td>\n",
              "      <td>0.07864</td>\n",
              "      <td>0.0869</td>\n",
              "      <td>0.07017</td>\n",
              "      <td>0.1812</td>\n",
              "      <td>0.05667</td>\n",
              "      <td>0.5435</td>\n",
              "      <td>0.7339</td>\n",
              "      <td>3.398</td>\n",
              "      <td>74.08</td>\n",
              "      <td>0.005225</td>\n",
              "      <td>0.01308</td>\n",
              "      <td>0.01860</td>\n",
              "      <td>0.01340</td>\n",
              "      <td>0.01389</td>\n",
              "      <td>0.003532</td>\n",
              "      <td>24.99</td>\n",
              "      <td>23.41</td>\n",
              "      <td>158.8</td>\n",
              "      <td>1956.0</td>\n",
              "      <td>0.1238</td>\n",
              "      <td>0.1866</td>\n",
              "      <td>0.2416</td>\n",
              "      <td>0.1860</td>\n",
              "      <td>0.2750</td>\n",
              "      <td>0.08902</td>\n",
              "    </tr>\n",
              "    <tr>\n",
              "      <th>2</th>\n",
              "      <td>84300903</td>\n",
              "      <td>M</td>\n",
              "      <td>19.69</td>\n",
              "      <td>21.25</td>\n",
              "      <td>130.0</td>\n",
              "      <td>1203.0</td>\n",
              "      <td>0.10960</td>\n",
              "      <td>0.15990</td>\n",
              "      <td>0.1974</td>\n",
              "      <td>0.12790</td>\n",
              "      <td>0.2069</td>\n",
              "      <td>0.05999</td>\n",
              "      <td>0.7456</td>\n",
              "      <td>0.7869</td>\n",
              "      <td>4.585</td>\n",
              "      <td>94.03</td>\n",
              "      <td>0.006150</td>\n",
              "      <td>0.04006</td>\n",
              "      <td>0.03832</td>\n",
              "      <td>0.02058</td>\n",
              "      <td>0.02250</td>\n",
              "      <td>0.004571</td>\n",
              "      <td>23.57</td>\n",
              "      <td>25.53</td>\n",
              "      <td>152.5</td>\n",
              "      <td>1709.0</td>\n",
              "      <td>0.1444</td>\n",
              "      <td>0.4245</td>\n",
              "      <td>0.4504</td>\n",
              "      <td>0.2430</td>\n",
              "      <td>0.3613</td>\n",
              "      <td>0.08758</td>\n",
              "    </tr>\n",
              "  </tbody>\n",
              "</table>\n",
              "</div>\n",
              "      <button class=\"colab-df-convert\" onclick=\"convertToInteractive('df-b17f03e2-aa31-4ac9-9cde-4ab14617b434')\"\n",
              "              title=\"Convert this dataframe to an interactive table.\"\n",
              "              style=\"display:none;\">\n",
              "        \n",
              "  <svg xmlns=\"http://www.w3.org/2000/svg\" height=\"24px\"viewBox=\"0 0 24 24\"\n",
              "       width=\"24px\">\n",
              "    <path d=\"M0 0h24v24H0V0z\" fill=\"none\"/>\n",
              "    <path d=\"M18.56 5.44l.94 2.06.94-2.06 2.06-.94-2.06-.94-.94-2.06-.94 2.06-2.06.94zm-11 1L8.5 8.5l.94-2.06 2.06-.94-2.06-.94L8.5 2.5l-.94 2.06-2.06.94zm10 10l.94 2.06.94-2.06 2.06-.94-2.06-.94-.94-2.06-.94 2.06-2.06.94z\"/><path d=\"M17.41 7.96l-1.37-1.37c-.4-.4-.92-.59-1.43-.59-.52 0-1.04.2-1.43.59L10.3 9.45l-7.72 7.72c-.78.78-.78 2.05 0 2.83L4 21.41c.39.39.9.59 1.41.59.51 0 1.02-.2 1.41-.59l7.78-7.78 2.81-2.81c.8-.78.8-2.07 0-2.86zM5.41 20L4 18.59l7.72-7.72 1.47 1.35L5.41 20z\"/>\n",
              "  </svg>\n",
              "      </button>\n",
              "      \n",
              "  <style>\n",
              "    .colab-df-container {\n",
              "      display:flex;\n",
              "      flex-wrap:wrap;\n",
              "      gap: 12px;\n",
              "    }\n",
              "\n",
              "    .colab-df-convert {\n",
              "      background-color: #E8F0FE;\n",
              "      border: none;\n",
              "      border-radius: 50%;\n",
              "      cursor: pointer;\n",
              "      display: none;\n",
              "      fill: #1967D2;\n",
              "      height: 32px;\n",
              "      padding: 0 0 0 0;\n",
              "      width: 32px;\n",
              "    }\n",
              "\n",
              "    .colab-df-convert:hover {\n",
              "      background-color: #E2EBFA;\n",
              "      box-shadow: 0px 1px 2px rgba(60, 64, 67, 0.3), 0px 1px 3px 1px rgba(60, 64, 67, 0.15);\n",
              "      fill: #174EA6;\n",
              "    }\n",
              "\n",
              "    [theme=dark] .colab-df-convert {\n",
              "      background-color: #3B4455;\n",
              "      fill: #D2E3FC;\n",
              "    }\n",
              "\n",
              "    [theme=dark] .colab-df-convert:hover {\n",
              "      background-color: #434B5C;\n",
              "      box-shadow: 0px 1px 3px 1px rgba(0, 0, 0, 0.15);\n",
              "      filter: drop-shadow(0px 1px 2px rgba(0, 0, 0, 0.3));\n",
              "      fill: #FFFFFF;\n",
              "    }\n",
              "  </style>\n",
              "\n",
              "      <script>\n",
              "        const buttonEl =\n",
              "          document.querySelector('#df-b17f03e2-aa31-4ac9-9cde-4ab14617b434 button.colab-df-convert');\n",
              "        buttonEl.style.display =\n",
              "          google.colab.kernel.accessAllowed ? 'block' : 'none';\n",
              "\n",
              "        async function convertToInteractive(key) {\n",
              "          const element = document.querySelector('#df-b17f03e2-aa31-4ac9-9cde-4ab14617b434');\n",
              "          const dataTable =\n",
              "            await google.colab.kernel.invokeFunction('convertToInteractive',\n",
              "                                                     [key], {});\n",
              "          if (!dataTable) return;\n",
              "\n",
              "          const docLinkHtml = 'Like what you see? Visit the ' +\n",
              "            '<a target=\"_blank\" href=https://colab.research.google.com/notebooks/data_table.ipynb>data table notebook</a>'\n",
              "            + ' to learn more about interactive tables.';\n",
              "          element.innerHTML = '';\n",
              "          dataTable['output_type'] = 'display_data';\n",
              "          await google.colab.output.renderOutput(dataTable, element);\n",
              "          const docLink = document.createElement('div');\n",
              "          docLink.innerHTML = docLinkHtml;\n",
              "          element.appendChild(docLink);\n",
              "        }\n",
              "      </script>\n",
              "    </div>\n",
              "  </div>\n",
              "  "
            ],
            "text/plain": [
              "         id diagnosis  ...  symmetry_worst  fractal_dimension_worst\n",
              "0    842302         M  ...          0.4601                  0.11890\n",
              "1    842517         M  ...          0.2750                  0.08902\n",
              "2  84300903         M  ...          0.3613                  0.08758\n",
              "\n",
              "[3 rows x 32 columns]"
            ]
          },
          "metadata": {},
          "execution_count": 48
        }
      ]
    },
    {
      "cell_type": "markdown",
      "source": [
        "**Seperate dependent and Independent Variables from the dataset**"
      ],
      "metadata": {
        "id": "oXaUPbcgIwvU"
      }
    },
    {
      "cell_type": "code",
      "source": [
        "X = data.iloc[:,2:]\n",
        "y = data.iloc[:,1]\n",
        "y.head(3)"
      ],
      "metadata": {
        "colab": {
          "base_uri": "https://localhost:8080/"
        },
        "id": "pywlTxkqC5-n",
        "outputId": "86a4a91e-a79b-4f0d-814a-193bffb9af68"
      },
      "execution_count": 49,
      "outputs": [
        {
          "output_type": "execute_result",
          "data": {
            "text/plain": [
              "0    M\n",
              "1    M\n",
              "2    M\n",
              "Name: diagnosis, dtype: object"
            ]
          },
          "metadata": {},
          "execution_count": 49
        }
      ]
    },
    {
      "cell_type": "markdown",
      "source": [
        "**Divide the dataset into training and testing dataset**"
      ],
      "metadata": {
        "id": "Xy_0MY0gI5rj"
      }
    },
    {
      "cell_type": "code",
      "source": [
        "from sklearn.model_selection import train_test_split\n",
        "X_train, X_test, y_train, y_test = train_test_split(X, y, test_size=0.20)"
      ],
      "metadata": {
        "id": "LfmCN5f5DD8n"
      },
      "execution_count": 50,
      "outputs": []
    },
    {
      "cell_type": "code",
      "source": [
        "print('train data',len(X_train),'+ test data',len(X_test),'= total',len(data),)"
      ],
      "metadata": {
        "colab": {
          "base_uri": "https://localhost:8080/"
        },
        "id": "rt260qR4E-FF",
        "outputId": "9a1d6064-4f70-4801-e4d6-65f8b6d1acaa"
      },
      "execution_count": 51,
      "outputs": [
        {
          "output_type": "stream",
          "name": "stdout",
          "text": [
            "train data 455 + test data 114 = total 569\n"
          ]
        }
      ]
    },
    {
      "cell_type": "markdown",
      "source": [
        "**Fit decision tree to the training data**"
      ],
      "metadata": {
        "id": "I7oSW63TJCHO"
      }
    },
    {
      "cell_type": "code",
      "source": [
        "from sklearn import tree\n",
        "dtree = tree.DecisionTreeClassifier()\n",
        "model = dtree.fit(X,y)"
      ],
      "metadata": {
        "id": "6m55jnECFnsA"
      },
      "execution_count": 52,
      "outputs": []
    },
    {
      "cell_type": "markdown",
      "source": [
        "**predict the test values using the model we created**"
      ],
      "metadata": {
        "id": "9pPRvBoGJZFh"
      }
    },
    {
      "cell_type": "code",
      "source": [
        "y_pred = model.predict(X_test)"
      ],
      "metadata": {
        "id": "FjpiFYe7Fz8v"
      },
      "execution_count": 53,
      "outputs": []
    },
    {
      "cell_type": "markdown",
      "source": [
        "**Using confusion matrix to visualise the accuracy of our prediction**"
      ],
      "metadata": {
        "id": "0RI2F50JJnlq"
      }
    },
    {
      "cell_type": "code",
      "source": [
        "import seaborn as sn\n",
        "confusion_matrix = pd.crosstab(y_test, y_pred, rownames=['Actual'], colnames=['predicted'])\n",
        "sn.heatmap(confusion_matrix, annot=True)\n",
        "#confusion_matrix"
      ],
      "metadata": {
        "colab": {
          "base_uri": "https://localhost:8080/",
          "height": 296
        },
        "id": "WLsZi1QMGOii",
        "outputId": "ef824bff-d4f8-45ca-e597-c8c67dbc45d8"
      },
      "execution_count": 54,
      "outputs": [
        {
          "output_type": "execute_result",
          "data": {
            "text/plain": [
              "<matplotlib.axes._subplots.AxesSubplot at 0x7f10ca6383d0>"
            ]
          },
          "metadata": {},
          "execution_count": 54
        },
        {
          "output_type": "display_data",
          "data": {
            "image/png": "[encoded data removed]",
            "text/plain": [
              "<Figure size 432x288 with 2 Axes>"
            ]
          },
          "metadata": {
            "needs_background": "light"
          }
        }
      ]
    },
    {
      "cell_type": "markdown",
      "source": [
        "**Visualising the tree using sklean and graphviz**"
      ],
      "metadata": {
        "id": "0Hj9YPuIKHwg"
      }
    },
    {
      "cell_type": "code",
      "source": [
        "from sklearn import tree\n",
        "tree.plot_tree(model)"
      ],
      "metadata": {
        "colab": {
          "base_uri": "https://localhost:8080/",
          "height": 994
        },
        "id": "PMRJqmtjGieo",
        "outputId": "152ca810-1cbb-4261-c840-28f4e08d7d9d"
      },
      "execution_count": 55,
      "outputs": [
        {
          "output_type": "execute_result",
          "data": {
            "text/plain": [
              "[Text(209.25, 203.85, 'X[20] <= 16.795\\ngini = 0.468\\nsamples = 569\\nvalue = [357, 212]'),\n",
              " Text(136.01250000000002, 176.67000000000002, 'X[27] <= 0.136\\ngini = 0.159\\nsamples = 379\\nvalue = [346, 33]'),\n",
              " Text(78.46875, 149.49, 'X[12] <= 6.597\\ngini = 0.03\\nsamples = 333\\nvalue = [328, 5]'),\n",
              " Text(68.00625000000001, 122.31, 'X[13] <= 38.605\\ngini = 0.024\\nsamples = 332\\nvalue = [328, 4]'),\n",
              " Text(41.85, 95.13, 'X[14] <= 0.003\\ngini = 0.012\\nsamples = 319\\nvalue = [317, 2]'),\n",
              " Text(20.925, 67.94999999999999, 'X[21] <= 27.755\\ngini = 0.245\\nsamples = 7\\nvalue = [6, 1]'),\n",
              " Text(10.4625, 40.77000000000001, 'gini = 0.0\\nsamples = 6\\nvalue = [6, 0]'),\n",
              " Text(31.387500000000003, 40.77000000000001, 'gini = 0.0\\nsamples = 1\\nvalue = [0, 1]'),\n",
              " Text(62.775000000000006, 67.94999999999999, 'X[21] <= 33.27\\ngini = 0.006\\nsamples = 312\\nvalue = [311, 1]'),\n",
              " Text(52.3125, 40.77000000000001, 'gini = 0.0\\nsamples = 292\\nvalue = [292, 0]'),\n",
              " Text(73.2375, 40.77000000000001, 'X[21] <= 33.56\\ngini = 0.095\\nsamples = 20\\nvalue = [19, 1]'),\n",
              " Text(62.775000000000006, 13.590000000000003, 'gini = 0.0\\nsamples = 1\\nvalue = [0, 1]'),\n",
              " Text(83.7, 13.590000000000003, 'gini = 0.0\\nsamples = 19\\nvalue = [19, 0]'),\n",
              " Text(94.16250000000001, 95.13, 'X[25] <= 0.082\\ngini = 0.26\\nsamples = 13\\nvalue = [11, 2]'),\n",
              " Text(83.7, 67.94999999999999, 'gini = 0.0\\nsamples = 1\\nvalue = [0, 1]'),\n",
              " Text(104.625, 67.94999999999999, 'X[26] <= 0.328\\ngini = 0.153\\nsamples = 12\\nvalue = [11, 1]'),\n",
              " Text(94.16250000000001, 40.77000000000001, 'gini = 0.0\\nsamples = 11\\nvalue = [11, 0]'),\n",
              " Text(115.0875, 40.77000000000001, 'gini = 0.0\\nsamples = 1\\nvalue = [0, 1]'),\n",
              " Text(88.93125, 122.31, 'gini = 0.0\\nsamples = 1\\nvalue = [0, 1]'),\n",
              " Text(193.55625, 149.49, 'X[21] <= 25.67\\ngini = 0.476\\nsamples = 46\\nvalue = [18, 28]'),\n",
              " Text(156.9375, 122.31, 'X[23] <= 810.3\\ngini = 0.332\\nsamples = 19\\nvalue = [15, 4]'),\n",
              " Text(136.01250000000002, 95.13, 'X[24] <= 0.179\\ngini = 0.124\\nsamples = 15\\nvalue = [14, 1]'),\n",
              " Text(125.55000000000001, 67.94999999999999, 'gini = 0.0\\nsamples = 14\\nvalue = [14, 0]'),\n",
              " Text(146.475, 67.94999999999999, 'gini = 0.0\\nsamples = 1\\nvalue = [0, 1]'),\n",
              " Text(177.8625, 95.13, 'X[7] <= 0.046\\ngini = 0.375\\nsamples = 4\\nvalue = [1, 3]'),\n",
              " Text(167.4, 67.94999999999999, 'gini = 0.0\\nsamples = 1\\nvalue = [1, 0]'),\n",
              " Text(188.32500000000002, 67.94999999999999, 'gini = 0.0\\nsamples = 3\\nvalue = [0, 3]'),\n",
              " Text(230.175, 122.31, 'X[7] <= 0.054\\ngini = 0.198\\nsamples = 27\\nvalue = [3, 24]'),\n",
              " Text(219.7125, 95.13, 'X[21] <= 28.545\\ngini = 0.5\\nsamples = 6\\nvalue = [3, 3]'),\n",
              " Text(209.25, 67.94999999999999, 'gini = 0.0\\nsamples = 3\\nvalue = [3, 0]'),\n",
              " Text(230.175, 67.94999999999999, 'gini = 0.0\\nsamples = 3\\nvalue = [0, 3]'),\n",
              " Text(240.63750000000002, 95.13, 'gini = 0.0\\nsamples = 21\\nvalue = [0, 21]'),\n",
              " Text(282.4875, 176.67000000000002, 'X[21] <= 19.91\\ngini = 0.109\\nsamples = 190\\nvalue = [11, 179]'),\n",
              " Text(261.5625, 149.49, 'X[16] <= 0.034\\ngini = 0.498\\nsamples = 17\\nvalue = [9, 8]'),\n",
              " Text(251.10000000000002, 122.31, 'gini = 0.0\\nsamples = 9\\nvalue = [9, 0]'),\n",
              " Text(272.02500000000003, 122.31, 'gini = 0.0\\nsamples = 8\\nvalue = [0, 8]'),\n",
              " Text(303.4125, 149.49, 'X[24] <= 0.088\\ngini = 0.023\\nsamples = 173\\nvalue = [2, 171]'),\n",
              " Text(292.95, 122.31, 'gini = 0.0\\nsamples = 1\\nvalue = [1, 0]'),\n",
              " Text(313.875, 122.31, 'X[26] <= 0.18\\ngini = 0.012\\nsamples = 172\\nvalue = [1, 171]'),\n",
              " Text(303.4125, 95.13, 'X[8] <= 0.151\\ngini = 0.375\\nsamples = 4\\nvalue = [1, 3]'),\n",
              " Text(292.95, 67.94999999999999, 'gini = 0.0\\nsamples = 1\\nvalue = [1, 0]'),\n",
              " Text(313.875, 67.94999999999999, 'gini = 0.0\\nsamples = 3\\nvalue = [0, 3]'),\n",
              " Text(324.33750000000003, 95.13, 'gini = 0.0\\nsamples = 168\\nvalue = [0, 168]')]"
            ]
          },
          "metadata": {},
          "execution_count": 55
        },
        {
          "output_type": "display_data",
          "data": {
            "image/png": "[encoded data removed]",
            "text/plain": [
              "<Figure size 432x288 with 1 Axes>"
            ]
          },
          "metadata": {
            "needs_background": "light"
          }
        }
      ]
    },
    {
      "cell_type": "code",
      "source": [
        "import graphviz \n",
        "#dot_data = tree.export_graphviz(model, out_file=None)\n",
        "dot_data = tree.export_graphviz(model, out_file=None,\n",
        "                                feature_names=X.columns,\n",
        "                                class_names=data['diagnosis'],\n",
        "                                filled=True, rounded=True,\n",
        "                                special_characters=True)\n",
        "graph = graphviz.Source(dot_data) \n",
        "#graph.render(\"breat_cancer\") #use this to sava a pdf file of the tree\n",
        "graph"
      ],
      "metadata": {
        "colab": {
          "base_uri": "https://localhost:8080/",
          "height": 1000
        },
        "id": "f8I3WQMUHJOZ",
        "outputId": "3e5193cd-c672-4400-fb2c-2f7a0a24464e"
      },
      "execution_count": 60,
      "outputs": [
        {
          "output_type": "execute_result",
          "data": {
            "text/plain": [
              "<graphviz.files.Source at 0x7f10a8245b90>"
            ],
            "image/svg+xml": "<?xml version=\"1.0\" encoding=\"UTF-8\" standalone=\"no\"?>\n<!DOCTYPE svg PUBLIC \"-//W3C//DTD SVG 1.1//EN\"\n \"http://www.w3.org/Graphics/SVG/1.1/DTD/svg11.dtd\">\n<!-- Generated by graphviz version 2.40.1 (20161225.0304)\n -->\n<!-- Title: Tree Pages: 1 -->\n<svg width=\"1968pt\" height=\"909pt\"\n viewBox=\"0.00 0.00 1967.50 909.00\" xmlns=\"http://www.w3.org/2000/svg\" xmlns:xlink=\"http://www.w3.org/1999/xlink\">\n<g id=\"graph0\" class=\"graph\" transform=\"scale(1 1) rotate(0) translate(4 905)\">\n<title>Tree</title>\n<polygon fill=\"#ffffff\" stroke=\"transparent\" points=\"-4,4 -4,-905 1963.5,-905 1963.5,4 -4,4\"/>\n<!-- 0 -->\n<g id=\"node1\" class=\"node\">\n<title>0</title>\n<path fill=\"#f4ccaf\" stroke=\"#000000\" d=\"M1347,-901C1347,-901 1212,-901 1212,-901 1206,-901 1200,-895 1200,-889 1200,-889 1200,-830 1200,-830 1200,-824 1206,-818 1212,-818 1212,-818 1347,-818 1347,-818 1353,-818 1359,-824 1359,-830 1359,-830 1359,-889 1359,-889 1359,-895 1353,-901 1347,-901\"/>\n<text text-anchor=\"start\" x=\"1208\" y=\"-885.8\" font-family=\"Helvetica,sans-Serif\" font-size=\"14.00\" fill=\"#000000\">radius_worst ≤ 16.795</text>\n<text text-anchor=\"start\" x=\"1241.5\" y=\"-870.8\" font-family=\"Helvetica,sans-Serif\" font-size=\"14.00\" fill=\"#000000\">gini = 0.468</text>\n<text text-anchor=\"start\" x=\"1231.5\" y=\"-855.8\" font-family=\"Helvetica,sans-Serif\" font-size=\"14.00\" fill=\"#000000\">samples = 569</text>\n<text text-anchor=\"start\" x=\"1221.5\" y=\"-840.8\" font-family=\"Helvetica,sans-Serif\" font-size=\"14.00\" fill=\"#000000\">value = [357, 212]</text>\n<text text-anchor=\"start\" x=\"1248.5\" y=\"-825.8\" font-family=\"Helvetica,sans-Serif\" font-size=\"14.00\" fill=\"#000000\">class = M</text>\n</g>\n<!-- 1 -->\n<g id=\"node2\" class=\"node\">\n<title>1</title>\n<path fill=\"#e78d4c\" stroke=\"#000000\" d=\"M1205,-782C1205,-782 1020,-782 1020,-782 1014,-782 1008,-776 1008,-770 1008,-770 1008,-711 1008,-711 1008,-705 1014,-699 1020,-699 1020,-699 1205,-699 1205,-699 1211,-699 1217,-705 1217,-711 1217,-711 1217,-770 1217,-770 1217,-776 1211,-782 1205,-782\"/>\n<text text-anchor=\"start\" x=\"1016\" y=\"-766.8\" font-family=\"Helvetica,sans-Serif\" font-size=\"14.00\" fill=\"#000000\">concave points_worst ≤ 0.136</text>\n<text text-anchor=\"start\" x=\"1074.5\" y=\"-751.8\" font-family=\"Helvetica,sans-Serif\" font-size=\"14.00\" fill=\"#000000\">gini = 0.159</text>\n<text text-anchor=\"start\" x=\"1064.5\" y=\"-736.8\" font-family=\"Helvetica,sans-Serif\" font-size=\"14.00\" fill=\"#000000\">samples = 379</text>\n<text text-anchor=\"start\" x=\"1058.5\" y=\"-721.8\" font-family=\"Helvetica,sans-Serif\" font-size=\"14.00\" fill=\"#000000\">value = [346, 33]</text>\n<text text-anchor=\"start\" x=\"1081.5\" y=\"-706.8\" font-family=\"Helvetica,sans-Serif\" font-size=\"14.00\" fill=\"#000000\">class = M</text>\n</g>\n<!-- 0&#45;&gt;1 -->\n<g id=\"edge1\" class=\"edge\">\n<title>0&#45;&gt;1</title>\n<path fill=\"none\" stroke=\"#000000\" d=\"M1221.0915,-817.8796C1207.6161,-808.2774 1193.1797,-797.9903 1179.375,-788.1534\"/>\n<polygon fill=\"#000000\" stroke=\"#000000\" points=\"1181.0506,-785.0497 1170.8755,-782.0969 1176.9883,-790.7505 1181.0506,-785.0497\"/>\n<text text-anchor=\"middle\" x=\"1175.0134\" y=\"-803.0521\" font-family=\"Helvetica,sans-Serif\" font-size=\"14.00\" fill=\"#000000\">True</text>\n</g>\n<!-- 32 -->\n<g id=\"node33\" class=\"node\">\n<title>32</title>\n<path fill=\"#45a3e7\" stroke=\"#000000\" d=\"M1522,-782C1522,-782 1391,-782 1391,-782 1385,-782 1379,-776 1379,-770 1379,-770 1379,-711 1379,-711 1379,-705 1385,-699 1391,-699 1391,-699 1522,-699 1522,-699 1528,-699 1534,-705 1534,-711 1534,-711 1534,-770 1534,-770 1534,-776 1528,-782 1522,-782\"/>\n<text text-anchor=\"start\" x=\"1387\" y=\"-766.8\" font-family=\"Helvetica,sans-Serif\" font-size=\"14.00\" fill=\"#000000\">texture_worst ≤ 19.91</text>\n<text text-anchor=\"start\" x=\"1418.5\" y=\"-751.8\" font-family=\"Helvetica,sans-Serif\" font-size=\"14.00\" fill=\"#000000\">gini = 0.109</text>\n<text text-anchor=\"start\" x=\"1408.5\" y=\"-736.8\" font-family=\"Helvetica,sans-Serif\" font-size=\"14.00\" fill=\"#000000\">samples = 190</text>\n<text text-anchor=\"start\" x=\"1402.5\" y=\"-721.8\" font-family=\"Helvetica,sans-Serif\" font-size=\"14.00\" fill=\"#000000\">value = [11, 179]</text>\n<text text-anchor=\"start\" x=\"1425.5\" y=\"-706.8\" font-family=\"Helvetica,sans-Serif\" font-size=\"14.00\" fill=\"#000000\">class = M</text>\n</g>\n<!-- 0&#45;&gt;32 -->\n<g id=\"edge32\" class=\"edge\">\n<title>0&#45;&gt;32</title>\n<path fill=\"none\" stroke=\"#000000\" d=\"M1341.406,-817.8796C1355.823,-808.1868 1371.278,-797.7961 1386.0344,-787.8752\"/>\n<polygon fill=\"#000000\" stroke=\"#000000\" points=\"1388.2829,-790.581 1394.6289,-782.0969 1384.3773,-784.7718 1388.2829,-790.581\"/>\n<text text-anchor=\"middle\" x=\"1389.8217\" y=\"-802.9304\" font-family=\"Helvetica,sans-Serif\" font-size=\"14.00\" fill=\"#000000\">False</text>\n</g>\n<!-- 2 -->\n<g id=\"node3\" class=\"node\">\n<title>2</title>\n<path fill=\"#e5833c\" stroke=\"#000000\" d=\"M938,-663C938,-663 809,-663 809,-663 803,-663 797,-657 797,-651 797,-651 797,-592 797,-592 797,-586 803,-580 809,-580 809,-580 938,-580 938,-580 944,-580 950,-586 950,-592 950,-592 950,-651 950,-651 950,-657 944,-663 938,-663\"/>\n<text text-anchor=\"start\" x=\"805\" y=\"-647.8\" font-family=\"Helvetica,sans-Serif\" font-size=\"14.00\" fill=\"#000000\">perimeter_se ≤ 6.597</text>\n<text text-anchor=\"start\" x=\"840\" y=\"-632.8\" font-family=\"Helvetica,sans-Serif\" font-size=\"14.00\" fill=\"#000000\">gini = 0.03</text>\n<text text-anchor=\"start\" x=\"825.5\" y=\"-617.8\" font-family=\"Helvetica,sans-Serif\" font-size=\"14.00\" fill=\"#000000\">samples = 333</text>\n<text text-anchor=\"start\" x=\"823.5\" y=\"-602.8\" font-family=\"Helvetica,sans-Serif\" font-size=\"14.00\" fill=\"#000000\">value = [328, 5]</text>\n<text text-anchor=\"start\" x=\"842.5\" y=\"-587.8\" font-family=\"Helvetica,sans-Serif\" font-size=\"14.00\" fill=\"#000000\">class = M</text>\n</g>\n<!-- 1&#45;&gt;2 -->\n<g id=\"edge2\" class=\"edge\">\n<title>1&#45;&gt;2</title>\n<path fill=\"none\" stroke=\"#000000\" d=\"M1028.9094,-698.8796C1006.4305,-687.6871 982.0827,-675.5642 959.4764,-664.3083\"/>\n<polygon fill=\"#000000\" stroke=\"#000000\" points=\"960.7528,-661.0341 950.241,-659.71 957.6328,-667.3003 960.7528,-661.0341\"/>\n</g>\n<!-- 19 -->\n<g id=\"node20\" class=\"node\">\n<title>19</title>\n<path fill=\"#b8dcf6\" stroke=\"#000000\" d=\"M1178,-663C1178,-663 1047,-663 1047,-663 1041,-663 1035,-657 1035,-651 1035,-651 1035,-592 1035,-592 1035,-586 1041,-580 1047,-580 1047,-580 1178,-580 1178,-580 1184,-580 1190,-586 1190,-592 1190,-592 1190,-651 1190,-651 1190,-657 1184,-663 1178,-663\"/>\n<text text-anchor=\"start\" x=\"1043\" y=\"-647.8\" font-family=\"Helvetica,sans-Serif\" font-size=\"14.00\" fill=\"#000000\">texture_worst ≤ 25.67</text>\n<text text-anchor=\"start\" x=\"1074.5\" y=\"-632.8\" font-family=\"Helvetica,sans-Serif\" font-size=\"14.00\" fill=\"#000000\">gini = 0.476</text>\n<text text-anchor=\"start\" x=\"1068.5\" y=\"-617.8\" font-family=\"Helvetica,sans-Serif\" font-size=\"14.00\" fill=\"#000000\">samples = 46</text>\n<text text-anchor=\"start\" x=\"1062.5\" y=\"-602.8\" font-family=\"Helvetica,sans-Serif\" font-size=\"14.00\" fill=\"#000000\">value = [18, 28]</text>\n<text text-anchor=\"start\" x=\"1081.5\" y=\"-587.8\" font-family=\"Helvetica,sans-Serif\" font-size=\"14.00\" fill=\"#000000\">class = M</text>\n</g>\n<!-- 1&#45;&gt;19 -->\n<g id=\"edge19\" class=\"edge\">\n<title>1&#45;&gt;19</title>\n<path fill=\"none\" stroke=\"#000000\" d=\"M1112.5,-698.8796C1112.5,-690.6838 1112.5,-681.9891 1112.5,-673.5013\"/>\n<polygon fill=\"#000000\" stroke=\"#000000\" points=\"1116.0001,-673.298 1112.5,-663.2981 1109.0001,-673.2981 1116.0001,-673.298\"/>\n</g>\n<!-- 3 -->\n<g id=\"node4\" class=\"node\">\n<title>3</title>\n<path fill=\"#e5833b\" stroke=\"#000000\" d=\"M637.5,-544C637.5,-544 531.5,-544 531.5,-544 525.5,-544 519.5,-538 519.5,-532 519.5,-532 519.5,-473 519.5,-473 519.5,-467 525.5,-461 531.5,-461 531.5,-461 637.5,-461 637.5,-461 643.5,-461 649.5,-467 649.5,-473 649.5,-473 649.5,-532 649.5,-532 649.5,-538 643.5,-544 637.5,-544\"/>\n<text text-anchor=\"start\" x=\"527.5\" y=\"-528.8\" font-family=\"Helvetica,sans-Serif\" font-size=\"14.00\" fill=\"#000000\">area_se ≤ 38.605</text>\n<text text-anchor=\"start\" x=\"546.5\" y=\"-513.8\" font-family=\"Helvetica,sans-Serif\" font-size=\"14.00\" fill=\"#000000\">gini = 0.024</text>\n<text text-anchor=\"start\" x=\"536.5\" y=\"-498.8\" font-family=\"Helvetica,sans-Serif\" font-size=\"14.00\" fill=\"#000000\">samples = 332</text>\n<text text-anchor=\"start\" x=\"534.5\" y=\"-483.8\" font-family=\"Helvetica,sans-Serif\" font-size=\"14.00\" fill=\"#000000\">value = [328, 4]</text>\n<text text-anchor=\"start\" x=\"553.5\" y=\"-468.8\" font-family=\"Helvetica,sans-Serif\" font-size=\"14.00\" fill=\"#000000\">class = M</text>\n</g>\n<!-- 2&#45;&gt;3 -->\n<g id=\"edge3\" class=\"edge\">\n<title>2&#45;&gt;3</title>\n<path fill=\"none\" stroke=\"#000000\" d=\"M796.8121,-589.9226C754.2149,-572.3826 701.4498,-550.6558 659.1787,-533.25\"/>\n<polygon fill=\"#000000\" stroke=\"#000000\" points=\"660.3562,-529.9499 649.7768,-529.3787 657.6909,-536.4226 660.3562,-529.9499\"/>\n</g>\n<!-- 18 -->\n<g id=\"node19\" class=\"node\">\n<title>18</title>\n<path fill=\"#399de5\" stroke=\"#000000\" d=\"M911,-536.5C911,-536.5 836,-536.5 836,-536.5 830,-536.5 824,-530.5 824,-524.5 824,-524.5 824,-480.5 824,-480.5 824,-474.5 830,-468.5 836,-468.5 836,-468.5 911,-468.5 911,-468.5 917,-468.5 923,-474.5 923,-480.5 923,-480.5 923,-524.5 923,-524.5 923,-530.5 917,-536.5 911,-536.5\"/>\n<text text-anchor=\"start\" x=\"844\" y=\"-521.3\" font-family=\"Helvetica,sans-Serif\" font-size=\"14.00\" fill=\"#000000\">gini = 0.0</text>\n<text text-anchor=\"start\" x=\"834\" y=\"-506.3\" font-family=\"Helvetica,sans-Serif\" font-size=\"14.00\" fill=\"#000000\">samples = 1</text>\n<text text-anchor=\"start\" x=\"832\" y=\"-491.3\" font-family=\"Helvetica,sans-Serif\" font-size=\"14.00\" fill=\"#000000\">value = [0, 1]</text>\n<text text-anchor=\"start\" x=\"842.5\" y=\"-476.3\" font-family=\"Helvetica,sans-Serif\" font-size=\"14.00\" fill=\"#000000\">class = M</text>\n</g>\n<!-- 2&#45;&gt;18 -->\n<g id=\"edge18\" class=\"edge\">\n<title>2&#45;&gt;18</title>\n<path fill=\"none\" stroke=\"#000000\" d=\"M873.5,-579.8796C873.5,-569.2134 873.5,-557.7021 873.5,-546.9015\"/>\n<polygon fill=\"#000000\" stroke=\"#000000\" points=\"877.0001,-546.8149 873.5,-536.8149 870.0001,-546.815 877.0001,-546.8149\"/>\n</g>\n<!-- 4 -->\n<g id=\"node5\" class=\"node\">\n<title>4</title>\n<path fill=\"#e5823a\" stroke=\"#000000\" d=\"M412.5,-425C412.5,-425 264.5,-425 264.5,-425 258.5,-425 252.5,-419 252.5,-413 252.5,-413 252.5,-354 252.5,-354 252.5,-348 258.5,-342 264.5,-342 264.5,-342 412.5,-342 412.5,-342 418.5,-342 424.5,-348 424.5,-354 424.5,-354 424.5,-413 424.5,-413 424.5,-419 418.5,-425 412.5,-425\"/>\n<text text-anchor=\"start\" x=\"260.5\" y=\"-409.8\" font-family=\"Helvetica,sans-Serif\" font-size=\"14.00\" fill=\"#000000\">smoothness_se ≤ 0.003</text>\n<text text-anchor=\"start\" x=\"300.5\" y=\"-394.8\" font-family=\"Helvetica,sans-Serif\" font-size=\"14.00\" fill=\"#000000\">gini = 0.012</text>\n<text text-anchor=\"start\" x=\"290.5\" y=\"-379.8\" font-family=\"Helvetica,sans-Serif\" font-size=\"14.00\" fill=\"#000000\">samples = 319</text>\n<text text-anchor=\"start\" x=\"288.5\" y=\"-364.8\" font-family=\"Helvetica,sans-Serif\" font-size=\"14.00\" fill=\"#000000\">value = [317, 2]</text>\n<text text-anchor=\"start\" x=\"307.5\" y=\"-349.8\" font-family=\"Helvetica,sans-Serif\" font-size=\"14.00\" fill=\"#000000\">class = M</text>\n</g>\n<!-- 3&#45;&gt;4 -->\n<g id=\"edge4\" class=\"edge\">\n<title>3&#45;&gt;4</title>\n<path fill=\"none\" stroke=\"#000000\" d=\"M519.2224,-470.9226C493.0205,-458.2477 462.299,-443.3865 433.6946,-429.5494\"/>\n<polygon fill=\"#000000\" stroke=\"#000000\" points=\"435.0165,-426.3009 424.4903,-425.0969 431.9682,-432.6024 435.0165,-426.3009\"/>\n</g>\n<!-- 13 -->\n<g id=\"node14\" class=\"node\">\n<title>13</title>\n<path fill=\"#ea985d\" stroke=\"#000000\" d=\"M671.5,-425C671.5,-425 497.5,-425 497.5,-425 491.5,-425 485.5,-419 485.5,-413 485.5,-413 485.5,-354 485.5,-354 485.5,-348 491.5,-342 497.5,-342 497.5,-342 671.5,-342 671.5,-342 677.5,-342 683.5,-348 683.5,-354 683.5,-354 683.5,-413 683.5,-413 683.5,-419 677.5,-425 671.5,-425\"/>\n<text text-anchor=\"start\" x=\"493.5\" y=\"-409.8\" font-family=\"Helvetica,sans-Serif\" font-size=\"14.00\" fill=\"#000000\">compactness_worst ≤ 0.082</text>\n<text text-anchor=\"start\" x=\"551\" y=\"-394.8\" font-family=\"Helvetica,sans-Serif\" font-size=\"14.00\" fill=\"#000000\">gini = 0.26</text>\n<text text-anchor=\"start\" x=\"540.5\" y=\"-379.8\" font-family=\"Helvetica,sans-Serif\" font-size=\"14.00\" fill=\"#000000\">samples = 13</text>\n<text text-anchor=\"start\" x=\"539\" y=\"-364.8\" font-family=\"Helvetica,sans-Serif\" font-size=\"14.00\" fill=\"#000000\">value = [11, 2]</text>\n<text text-anchor=\"start\" x=\"553.5\" y=\"-349.8\" font-family=\"Helvetica,sans-Serif\" font-size=\"14.00\" fill=\"#000000\">class = M</text>\n</g>\n<!-- 3&#45;&gt;13 -->\n<g id=\"edge13\" class=\"edge\">\n<title>3&#45;&gt;13</title>\n<path fill=\"none\" stroke=\"#000000\" d=\"M584.5,-460.8796C584.5,-452.6838 584.5,-443.9891 584.5,-435.5013\"/>\n<polygon fill=\"#000000\" stroke=\"#000000\" points=\"588.0001,-435.298 584.5,-425.2981 581.0001,-435.2981 588.0001,-435.298\"/>\n</g>\n<!-- 5 -->\n<g id=\"node6\" class=\"node\">\n<title>5</title>\n<path fill=\"#e9965a\" stroke=\"#000000\" d=\"M230.5,-306C230.5,-306 90.5,-306 90.5,-306 84.5,-306 78.5,-300 78.5,-294 78.5,-294 78.5,-235 78.5,-235 78.5,-229 84.5,-223 90.5,-223 90.5,-223 230.5,-223 230.5,-223 236.5,-223 242.5,-229 242.5,-235 242.5,-235 242.5,-294 242.5,-294 242.5,-300 236.5,-306 230.5,-306\"/>\n<text text-anchor=\"start\" x=\"86.5\" y=\"-290.8\" font-family=\"Helvetica,sans-Serif\" font-size=\"14.00\" fill=\"#000000\">texture_worst ≤ 27.755</text>\n<text text-anchor=\"start\" x=\"122.5\" y=\"-275.8\" font-family=\"Helvetica,sans-Serif\" font-size=\"14.00\" fill=\"#000000\">gini = 0.245</text>\n<text text-anchor=\"start\" x=\"121\" y=\"-260.8\" font-family=\"Helvetica,sans-Serif\" font-size=\"14.00\" fill=\"#000000\">samples = 7</text>\n<text text-anchor=\"start\" x=\"119\" y=\"-245.8\" font-family=\"Helvetica,sans-Serif\" font-size=\"14.00\" fill=\"#000000\">value = [6, 1]</text>\n<text text-anchor=\"start\" x=\"129.5\" y=\"-230.8\" font-family=\"Helvetica,sans-Serif\" font-size=\"14.00\" fill=\"#000000\">class = M</text>\n</g>\n<!-- 4&#45;&gt;5 -->\n<g id=\"edge5\" class=\"edge\">\n<title>4&#45;&gt;5</title>\n<path fill=\"none\" stroke=\"#000000\" d=\"M276.2442,-341.8796C261.7458,-332.1868 246.2035,-321.7961 231.3637,-311.8752\"/>\n<polygon fill=\"#000000\" stroke=\"#000000\" points=\"232.9792,-308.7451 222.7206,-306.0969 229.0887,-314.5644 232.9792,-308.7451\"/>\n</g>\n<!-- 8 -->\n<g id=\"node9\" class=\"node\">\n<title>8</title>\n<path fill=\"#e5813a\" stroke=\"#000000\" d=\"M404,-306C404,-306 273,-306 273,-306 267,-306 261,-300 261,-294 261,-294 261,-235 261,-235 261,-229 267,-223 273,-223 273,-223 404,-223 404,-223 410,-223 416,-229 416,-235 416,-235 416,-294 416,-294 416,-300 410,-306 404,-306\"/>\n<text text-anchor=\"start\" x=\"269\" y=\"-290.8\" font-family=\"Helvetica,sans-Serif\" font-size=\"14.00\" fill=\"#000000\">texture_worst ≤ 33.27</text>\n<text text-anchor=\"start\" x=\"300.5\" y=\"-275.8\" font-family=\"Helvetica,sans-Serif\" font-size=\"14.00\" fill=\"#000000\">gini = 0.006</text>\n<text text-anchor=\"start\" x=\"290.5\" y=\"-260.8\" font-family=\"Helvetica,sans-Serif\" font-size=\"14.00\" fill=\"#000000\">samples = 312</text>\n<text text-anchor=\"start\" x=\"288.5\" y=\"-245.8\" font-family=\"Helvetica,sans-Serif\" font-size=\"14.00\" fill=\"#000000\">value = [311, 1]</text>\n<text text-anchor=\"start\" x=\"307.5\" y=\"-230.8\" font-family=\"Helvetica,sans-Serif\" font-size=\"14.00\" fill=\"#000000\">class = M</text>\n</g>\n<!-- 4&#45;&gt;8 -->\n<g id=\"edge8\" class=\"edge\">\n<title>4&#45;&gt;8</title>\n<path fill=\"none\" stroke=\"#000000\" d=\"M338.5,-341.8796C338.5,-333.6838 338.5,-324.9891 338.5,-316.5013\"/>\n<polygon fill=\"#000000\" stroke=\"#000000\" points=\"342.0001,-316.298 338.5,-306.2981 335.0001,-316.2981 342.0001,-316.298\"/>\n</g>\n<!-- 6 -->\n<g id=\"node7\" class=\"node\">\n<title>6</title>\n<path fill=\"#e58139\" stroke=\"#000000\" d=\"M87,-179.5C87,-179.5 12,-179.5 12,-179.5 6,-179.5 0,-173.5 0,-167.5 0,-167.5 0,-123.5 0,-123.5 0,-117.5 6,-111.5 12,-111.5 12,-111.5 87,-111.5 87,-111.5 93,-111.5 99,-117.5 99,-123.5 99,-123.5 99,-167.5 99,-167.5 99,-173.5 93,-179.5 87,-179.5\"/>\n<text text-anchor=\"start\" x=\"20\" y=\"-164.3\" font-family=\"Helvetica,sans-Serif\" font-size=\"14.00\" fill=\"#000000\">gini = 0.0</text>\n<text text-anchor=\"start\" x=\"10\" y=\"-149.3\" font-family=\"Helvetica,sans-Serif\" font-size=\"14.00\" fill=\"#000000\">samples = 6</text>\n<text text-anchor=\"start\" x=\"8\" y=\"-134.3\" font-family=\"Helvetica,sans-Serif\" font-size=\"14.00\" fill=\"#000000\">value = [6, 0]</text>\n<text text-anchor=\"start\" x=\"18.5\" y=\"-119.3\" font-family=\"Helvetica,sans-Serif\" font-size=\"14.00\" fill=\"#000000\">class = M</text>\n</g>\n<!-- 5&#45;&gt;6 -->\n<g id=\"edge6\" class=\"edge\">\n<title>5&#45;&gt;6</title>\n<path fill=\"none\" stroke=\"#000000\" d=\"M121.6776,-222.8796C110.9079,-211.3337 99.2146,-198.7976 88.4383,-187.2446\"/>\n<polygon fill=\"#000000\" stroke=\"#000000\" points=\"90.8885,-184.7402 81.508,-179.8149 85.7697,-189.5149 90.8885,-184.7402\"/>\n</g>\n<!-- 7 -->\n<g id=\"node8\" class=\"node\">\n<title>7</title>\n<path fill=\"#399de5\" stroke=\"#000000\" d=\"M204,-179.5C204,-179.5 129,-179.5 129,-179.5 123,-179.5 117,-173.5 117,-167.5 117,-167.5 117,-123.5 117,-123.5 117,-117.5 123,-111.5 129,-111.5 129,-111.5 204,-111.5 204,-111.5 210,-111.5 216,-117.5 216,-123.5 216,-123.5 216,-167.5 216,-167.5 216,-173.5 210,-179.5 204,-179.5\"/>\n<text text-anchor=\"start\" x=\"137\" y=\"-164.3\" font-family=\"Helvetica,sans-Serif\" font-size=\"14.00\" fill=\"#000000\">gini = 0.0</text>\n<text text-anchor=\"start\" x=\"127\" y=\"-149.3\" font-family=\"Helvetica,sans-Serif\" font-size=\"14.00\" fill=\"#000000\">samples = 1</text>\n<text text-anchor=\"start\" x=\"125\" y=\"-134.3\" font-family=\"Helvetica,sans-Serif\" font-size=\"14.00\" fill=\"#000000\">value = [0, 1]</text>\n<text text-anchor=\"start\" x=\"135.5\" y=\"-119.3\" font-family=\"Helvetica,sans-Serif\" font-size=\"14.00\" fill=\"#000000\">class = M</text>\n</g>\n<!-- 5&#45;&gt;7 -->\n<g id=\"edge7\" class=\"edge\">\n<title>5&#45;&gt;7</title>\n<path fill=\"none\" stroke=\"#000000\" d=\"M162.5985,-222.8796C163.1363,-212.2134 163.7167,-200.7021 164.2613,-189.9015\"/>\n<polygon fill=\"#000000\" stroke=\"#000000\" points=\"167.7617,-189.9785 164.7698,-179.8149 160.7706,-189.626 167.7617,-189.9785\"/>\n</g>\n<!-- 9 -->\n<g id=\"node10\" class=\"node\">\n<title>9</title>\n<path fill=\"#e58139\" stroke=\"#000000\" d=\"M362.5,-179.5C362.5,-179.5 270.5,-179.5 270.5,-179.5 264.5,-179.5 258.5,-173.5 258.5,-167.5 258.5,-167.5 258.5,-123.5 258.5,-123.5 258.5,-117.5 264.5,-111.5 270.5,-111.5 270.5,-111.5 362.5,-111.5 362.5,-111.5 368.5,-111.5 374.5,-117.5 374.5,-123.5 374.5,-123.5 374.5,-167.5 374.5,-167.5 374.5,-173.5 368.5,-179.5 362.5,-179.5\"/>\n<text text-anchor=\"start\" x=\"287\" y=\"-164.3\" font-family=\"Helvetica,sans-Serif\" font-size=\"14.00\" fill=\"#000000\">gini = 0.0</text>\n<text text-anchor=\"start\" x=\"268.5\" y=\"-149.3\" font-family=\"Helvetica,sans-Serif\" font-size=\"14.00\" fill=\"#000000\">samples = 292</text>\n<text text-anchor=\"start\" x=\"266.5\" y=\"-134.3\" font-family=\"Helvetica,sans-Serif\" font-size=\"14.00\" fill=\"#000000\">value = [292, 0]</text>\n<text text-anchor=\"start\" x=\"285.5\" y=\"-119.3\" font-family=\"Helvetica,sans-Serif\" font-size=\"14.00\" fill=\"#000000\">class = M</text>\n</g>\n<!-- 8&#45;&gt;9 -->\n<g id=\"edge9\" class=\"edge\">\n<title>8&#45;&gt;9</title>\n<path fill=\"none\" stroke=\"#000000\" d=\"M330.8055,-222.8796C328.8336,-212.2134 326.7054,-200.7021 324.7087,-189.9015\"/>\n<polygon fill=\"#000000\" stroke=\"#000000\" points=\"328.1036,-189.012 322.8439,-179.8149 321.2203,-190.2846 328.1036,-189.012\"/>\n</g>\n<!-- 10 -->\n<g id=\"node11\" class=\"node\">\n<title>10</title>\n<path fill=\"#e68843\" stroke=\"#000000\" d=\"M536,-187C536,-187 405,-187 405,-187 399,-187 393,-181 393,-175 393,-175 393,-116 393,-116 393,-110 399,-104 405,-104 405,-104 536,-104 536,-104 542,-104 548,-110 548,-116 548,-116 548,-175 548,-175 548,-181 542,-187 536,-187\"/>\n<text text-anchor=\"start\" x=\"401\" y=\"-171.8\" font-family=\"Helvetica,sans-Serif\" font-size=\"14.00\" fill=\"#000000\">texture_worst ≤ 33.56</text>\n<text text-anchor=\"start\" x=\"432.5\" y=\"-156.8\" font-family=\"Helvetica,sans-Serif\" font-size=\"14.00\" fill=\"#000000\">gini = 0.095</text>\n<text text-anchor=\"start\" x=\"426.5\" y=\"-141.8\" font-family=\"Helvetica,sans-Serif\" font-size=\"14.00\" fill=\"#000000\">samples = 20</text>\n<text text-anchor=\"start\" x=\"425\" y=\"-126.8\" font-family=\"Helvetica,sans-Serif\" font-size=\"14.00\" fill=\"#000000\">value = [19, 1]</text>\n<text text-anchor=\"start\" x=\"439.5\" y=\"-111.8\" font-family=\"Helvetica,sans-Serif\" font-size=\"14.00\" fill=\"#000000\">class = M</text>\n</g>\n<!-- 8&#45;&gt;10 -->\n<g id=\"edge10\" class=\"edge\">\n<title>8&#45;&gt;10</title>\n<path fill=\"none\" stroke=\"#000000\" d=\"M384.6672,-222.8796C394.9571,-213.6031 405.956,-203.6874 416.5287,-194.1559\"/>\n<polygon fill=\"#000000\" stroke=\"#000000\" points=\"419.0519,-196.5935 424.1358,-187.2981 414.3648,-191.3944 419.0519,-196.5935\"/>\n</g>\n<!-- 11 -->\n<g id=\"node12\" class=\"node\">\n<title>11</title>\n<path fill=\"#399de5\" stroke=\"#000000\" d=\"M447,-68C447,-68 372,-68 372,-68 366,-68 360,-62 360,-56 360,-56 360,-12 360,-12 360,-6 366,0 372,0 372,0 447,0 447,0 453,0 459,-6 459,-12 459,-12 459,-56 459,-56 459,-62 453,-68 447,-68\"/>\n<text text-anchor=\"start\" x=\"380\" y=\"-52.8\" font-family=\"Helvetica,sans-Serif\" font-size=\"14.00\" fill=\"#000000\">gini = 0.0</text>\n<text text-anchor=\"start\" x=\"370\" y=\"-37.8\" font-family=\"Helvetica,sans-Serif\" font-size=\"14.00\" fill=\"#000000\">samples = 1</text>\n<text text-anchor=\"start\" x=\"368\" y=\"-22.8\" font-family=\"Helvetica,sans-Serif\" font-size=\"14.00\" fill=\"#000000\">value = [0, 1]</text>\n<text text-anchor=\"start\" x=\"378.5\" y=\"-7.8\" font-family=\"Helvetica,sans-Serif\" font-size=\"14.00\" fill=\"#000000\">class = M</text>\n</g>\n<!-- 10&#45;&gt;11 -->\n<g id=\"edge11\" class=\"edge\">\n<title>10&#45;&gt;11</title>\n<path fill=\"none\" stroke=\"#000000\" d=\"M447.7859,-103.9815C443.0092,-95.2504 437.9595,-86.0202 433.1494,-77.2281\"/>\n<polygon fill=\"#000000\" stroke=\"#000000\" points=\"436.1153,-75.3568 428.2451,-68.2637 429.9742,-78.7165 436.1153,-75.3568\"/>\n</g>\n<!-- 12 -->\n<g id=\"node13\" class=\"node\">\n<title>12</title>\n<path fill=\"#e58139\" stroke=\"#000000\" d=\"M572,-68C572,-68 489,-68 489,-68 483,-68 477,-62 477,-56 477,-56 477,-12 477,-12 477,-6 483,0 489,0 489,0 572,0 572,0 578,0 584,-6 584,-12 584,-12 584,-56 584,-56 584,-62 578,-68 572,-68\"/>\n<text text-anchor=\"start\" x=\"501\" y=\"-52.8\" font-family=\"Helvetica,sans-Serif\" font-size=\"14.00\" fill=\"#000000\">gini = 0.0</text>\n<text text-anchor=\"start\" x=\"486.5\" y=\"-37.8\" font-family=\"Helvetica,sans-Serif\" font-size=\"14.00\" fill=\"#000000\">samples = 19</text>\n<text text-anchor=\"start\" x=\"485\" y=\"-22.8\" font-family=\"Helvetica,sans-Serif\" font-size=\"14.00\" fill=\"#000000\">value = [19, 0]</text>\n<text text-anchor=\"start\" x=\"499.5\" y=\"-7.8\" font-family=\"Helvetica,sans-Serif\" font-size=\"14.00\" fill=\"#000000\">class = M</text>\n</g>\n<!-- 10&#45;&gt;12 -->\n<g id=\"edge12\" class=\"edge\">\n<title>10&#45;&gt;12</title>\n<path fill=\"none\" stroke=\"#000000\" d=\"M492.8418,-103.9815C497.5402,-95.2504 502.5071,-86.0202 507.2383,-77.2281\"/>\n<polygon fill=\"#000000\" stroke=\"#000000\" points=\"510.4056,-78.7282 512.0621,-68.2637 504.2414,-75.4111 510.4056,-78.7282\"/>\n</g>\n<!-- 14 -->\n<g id=\"node15\" class=\"node\">\n<title>14</title>\n<path fill=\"#399de5\" stroke=\"#000000\" d=\"M521,-298.5C521,-298.5 446,-298.5 446,-298.5 440,-298.5 434,-292.5 434,-286.5 434,-286.5 434,-242.5 434,-242.5 434,-236.5 440,-230.5 446,-230.5 446,-230.5 521,-230.5 521,-230.5 527,-230.5 533,-236.5 533,-242.5 533,-242.5 533,-286.5 533,-286.5 533,-292.5 527,-298.5 521,-298.5\"/>\n<text text-anchor=\"start\" x=\"454\" y=\"-283.3\" font-family=\"Helvetica,sans-Serif\" font-size=\"14.00\" fill=\"#000000\">gini = 0.0</text>\n<text text-anchor=\"start\" x=\"444\" y=\"-268.3\" font-family=\"Helvetica,sans-Serif\" font-size=\"14.00\" fill=\"#000000\">samples = 1</text>\n<text text-anchor=\"start\" x=\"442\" y=\"-253.3\" font-family=\"Helvetica,sans-Serif\" font-size=\"14.00\" fill=\"#000000\">value = [0, 1]</text>\n<text text-anchor=\"start\" x=\"452.5\" y=\"-238.3\" font-family=\"Helvetica,sans-Serif\" font-size=\"14.00\" fill=\"#000000\">class = M</text>\n</g>\n<!-- 13&#45;&gt;14 -->\n<g id=\"edge14\" class=\"edge\">\n<title>13&#45;&gt;14</title>\n<path fill=\"none\" stroke=\"#000000\" d=\"M549.1751,-341.8796C539.469,-330.4436 528.9384,-318.0363 519.2107,-306.575\"/>\n<polygon fill=\"#000000\" stroke=\"#000000\" points=\"521.7638,-304.1743 512.6244,-298.8149 516.4269,-308.7039 521.7638,-304.1743\"/>\n</g>\n<!-- 15 -->\n<g id=\"node16\" class=\"node\">\n<title>15</title>\n<path fill=\"#e78c4b\" stroke=\"#000000\" d=\"M712,-306C712,-306 563,-306 563,-306 557,-306 551,-300 551,-294 551,-294 551,-235 551,-235 551,-229 557,-223 563,-223 563,-223 712,-223 712,-223 718,-223 724,-229 724,-235 724,-235 724,-294 724,-294 724,-300 718,-306 712,-306\"/>\n<text text-anchor=\"start\" x=\"559\" y=\"-290.8\" font-family=\"Helvetica,sans-Serif\" font-size=\"14.00\" fill=\"#000000\">concavity_worst ≤ 0.328</text>\n<text text-anchor=\"start\" x=\"599.5\" y=\"-275.8\" font-family=\"Helvetica,sans-Serif\" font-size=\"14.00\" fill=\"#000000\">gini = 0.153</text>\n<text text-anchor=\"start\" x=\"593.5\" y=\"-260.8\" font-family=\"Helvetica,sans-Serif\" font-size=\"14.00\" fill=\"#000000\">samples = 12</text>\n<text text-anchor=\"start\" x=\"592\" y=\"-245.8\" font-family=\"Helvetica,sans-Serif\" font-size=\"14.00\" fill=\"#000000\">value = [11, 1]</text>\n<text text-anchor=\"start\" x=\"606.5\" y=\"-230.8\" font-family=\"Helvetica,sans-Serif\" font-size=\"14.00\" fill=\"#000000\">class = M</text>\n</g>\n<!-- 13&#45;&gt;15 -->\n<g id=\"edge15\" class=\"edge\">\n<title>13&#45;&gt;15</title>\n<path fill=\"none\" stroke=\"#000000\" d=\"M603.0368,-341.8796C606.8074,-333.4136 610.815,-324.4153 614.7133,-315.6626\"/>\n<polygon fill=\"#000000\" stroke=\"#000000\" points=\"618.0127,-316.857 618.8841,-306.2981 611.6183,-314.009 618.0127,-316.857\"/>\n</g>\n<!-- 16 -->\n<g id=\"node17\" class=\"node\">\n<title>16</title>\n<path fill=\"#e58139\" stroke=\"#000000\" d=\"M673,-179.5C673,-179.5 590,-179.5 590,-179.5 584,-179.5 578,-173.5 578,-167.5 578,-167.5 578,-123.5 578,-123.5 578,-117.5 584,-111.5 590,-111.5 590,-111.5 673,-111.5 673,-111.5 679,-111.5 685,-117.5 685,-123.5 685,-123.5 685,-167.5 685,-167.5 685,-173.5 679,-179.5 673,-179.5\"/>\n<text text-anchor=\"start\" x=\"602\" y=\"-164.3\" font-family=\"Helvetica,sans-Serif\" font-size=\"14.00\" fill=\"#000000\">gini = 0.0</text>\n<text text-anchor=\"start\" x=\"587.5\" y=\"-149.3\" font-family=\"Helvetica,sans-Serif\" font-size=\"14.00\" fill=\"#000000\">samples = 11</text>\n<text text-anchor=\"start\" x=\"586\" y=\"-134.3\" font-family=\"Helvetica,sans-Serif\" font-size=\"14.00\" fill=\"#000000\">value = [11, 0]</text>\n<text text-anchor=\"start\" x=\"600.5\" y=\"-119.3\" font-family=\"Helvetica,sans-Serif\" font-size=\"14.00\" fill=\"#000000\">class = M</text>\n</g>\n<!-- 15&#45;&gt;16 -->\n<g id=\"edge16\" class=\"edge\">\n<title>15&#45;&gt;16</title>\n<path fill=\"none\" stroke=\"#000000\" d=\"M635.4015,-222.8796C634.8637,-212.2134 634.2833,-200.7021 633.7387,-189.9015\"/>\n<polygon fill=\"#000000\" stroke=\"#000000\" points=\"637.2294,-189.626 633.2302,-179.8149 630.2383,-189.9785 637.2294,-189.626\"/>\n</g>\n<!-- 17 -->\n<g id=\"node18\" class=\"node\">\n<title>17</title>\n<path fill=\"#399de5\" stroke=\"#000000\" d=\"M790,-179.5C790,-179.5 715,-179.5 715,-179.5 709,-179.5 703,-173.5 703,-167.5 703,-167.5 703,-123.5 703,-123.5 703,-117.5 709,-111.5 715,-111.5 715,-111.5 790,-111.5 790,-111.5 796,-111.5 802,-117.5 802,-123.5 802,-123.5 802,-167.5 802,-167.5 802,-173.5 796,-179.5 790,-179.5\"/>\n<text text-anchor=\"start\" x=\"723\" y=\"-164.3\" font-family=\"Helvetica,sans-Serif\" font-size=\"14.00\" fill=\"#000000\">gini = 0.0</text>\n<text text-anchor=\"start\" x=\"713\" y=\"-149.3\" font-family=\"Helvetica,sans-Serif\" font-size=\"14.00\" fill=\"#000000\">samples = 1</text>\n<text text-anchor=\"start\" x=\"711\" y=\"-134.3\" font-family=\"Helvetica,sans-Serif\" font-size=\"14.00\" fill=\"#000000\">value = [0, 1]</text>\n<text text-anchor=\"start\" x=\"721.5\" y=\"-119.3\" font-family=\"Helvetica,sans-Serif\" font-size=\"14.00\" fill=\"#000000\">class = M</text>\n</g>\n<!-- 15&#45;&gt;17 -->\n<g id=\"edge17\" class=\"edge\">\n<title>15&#45;&gt;17</title>\n<path fill=\"none\" stroke=\"#000000\" d=\"M677.7214,-222.8796C688.8792,-211.3337 700.9939,-198.7976 712.1586,-187.2446\"/>\n<polygon fill=\"#000000\" stroke=\"#000000\" points=\"714.9061,-189.4381 719.3385,-179.8149 709.8725,-184.5736 714.9061,-189.4381\"/>\n</g>\n<!-- 20 -->\n<g id=\"node21\" class=\"node\">\n<title>20</title>\n<path fill=\"#eca36e\" stroke=\"#000000\" d=\"M1119.5,-544C1119.5,-544 1003.5,-544 1003.5,-544 997.5,-544 991.5,-538 991.5,-532 991.5,-532 991.5,-473 991.5,-473 991.5,-467 997.5,-461 1003.5,-461 1003.5,-461 1119.5,-461 1119.5,-461 1125.5,-461 1131.5,-467 1131.5,-473 1131.5,-473 1131.5,-532 1131.5,-532 1131.5,-538 1125.5,-544 1119.5,-544\"/>\n<text text-anchor=\"start\" x=\"999.5\" y=\"-528.8\" font-family=\"Helvetica,sans-Serif\" font-size=\"14.00\" fill=\"#000000\">area_worst ≤ 810.3</text>\n<text text-anchor=\"start\" x=\"1023.5\" y=\"-513.8\" font-family=\"Helvetica,sans-Serif\" font-size=\"14.00\" fill=\"#000000\">gini = 0.332</text>\n<text text-anchor=\"start\" x=\"1017.5\" y=\"-498.8\" font-family=\"Helvetica,sans-Serif\" font-size=\"14.00\" fill=\"#000000\">samples = 19</text>\n<text text-anchor=\"start\" x=\"1016\" y=\"-483.8\" font-family=\"Helvetica,sans-Serif\" font-size=\"14.00\" fill=\"#000000\">value = [15, 4]</text>\n<text text-anchor=\"start\" x=\"1030.5\" y=\"-468.8\" font-family=\"Helvetica,sans-Serif\" font-size=\"14.00\" fill=\"#000000\">class = M</text>\n</g>\n<!-- 19&#45;&gt;20 -->\n<g id=\"edge20\" class=\"edge\">\n<title>19&#45;&gt;20</title>\n<path fill=\"none\" stroke=\"#000000\" d=\"M1094.6627,-579.8796C1091.0344,-571.4136 1087.178,-562.4153 1083.4268,-553.6626\"/>\n<polygon fill=\"#000000\" stroke=\"#000000\" points=\"1086.5697,-552.1108 1079.4135,-544.2981 1080.1357,-554.8683 1086.5697,-552.1108\"/>\n</g>\n<!-- 27 -->\n<g id=\"node28\" class=\"node\">\n<title>27</title>\n<path fill=\"#52a9e8\" stroke=\"#000000\" d=\"M1355.5,-544C1355.5,-544 1167.5,-544 1167.5,-544 1161.5,-544 1155.5,-538 1155.5,-532 1155.5,-532 1155.5,-473 1155.5,-473 1155.5,-467 1161.5,-461 1167.5,-461 1167.5,-461 1355.5,-461 1355.5,-461 1361.5,-461 1367.5,-467 1367.5,-473 1367.5,-473 1367.5,-532 1367.5,-532 1367.5,-538 1361.5,-544 1355.5,-544\"/>\n<text text-anchor=\"start\" x=\"1163.5\" y=\"-528.8\" font-family=\"Helvetica,sans-Serif\" font-size=\"14.00\" fill=\"#000000\">concave points_mean ≤ 0.054</text>\n<text text-anchor=\"start\" x=\"1223.5\" y=\"-513.8\" font-family=\"Helvetica,sans-Serif\" font-size=\"14.00\" fill=\"#000000\">gini = 0.198</text>\n<text text-anchor=\"start\" x=\"1217.5\" y=\"-498.8\" font-family=\"Helvetica,sans-Serif\" font-size=\"14.00\" fill=\"#000000\">samples = 27</text>\n<text text-anchor=\"start\" x=\"1216\" y=\"-483.8\" font-family=\"Helvetica,sans-Serif\" font-size=\"14.00\" fill=\"#000000\">value = [3, 24]</text>\n<text text-anchor=\"start\" x=\"1230.5\" y=\"-468.8\" font-family=\"Helvetica,sans-Serif\" font-size=\"14.00\" fill=\"#000000\">class = M</text>\n</g>\n<!-- 19&#45;&gt;27 -->\n<g id=\"edge27\" class=\"edge\">\n<title>19&#45;&gt;27</title>\n<path fill=\"none\" stroke=\"#000000\" d=\"M1164.613,-579.8796C1176.5225,-570.368 1189.2734,-560.1843 1201.4844,-550.432\"/>\n<polygon fill=\"#000000\" stroke=\"#000000\" points=\"1203.7868,-553.0724 1209.4165,-544.0969 1199.4184,-547.6027 1203.7868,-553.0724\"/>\n</g>\n<!-- 21 -->\n<g id=\"node22\" class=\"node\">\n<title>21</title>\n<path fill=\"#e78a47\" stroke=\"#000000\" d=\"M925,-425C925,-425 758,-425 758,-425 752,-425 746,-419 746,-413 746,-413 746,-354 746,-354 746,-348 752,-342 758,-342 758,-342 925,-342 925,-342 931,-342 937,-348 937,-354 937,-354 937,-413 937,-413 937,-419 931,-425 925,-425\"/>\n<text text-anchor=\"start\" x=\"754\" y=\"-409.8\" font-family=\"Helvetica,sans-Serif\" font-size=\"14.00\" fill=\"#000000\">smoothness_worst ≤ 0.179</text>\n<text text-anchor=\"start\" x=\"803.5\" y=\"-394.8\" font-family=\"Helvetica,sans-Serif\" font-size=\"14.00\" fill=\"#000000\">gini = 0.124</text>\n<text text-anchor=\"start\" x=\"797.5\" y=\"-379.8\" font-family=\"Helvetica,sans-Serif\" font-size=\"14.00\" fill=\"#000000\">samples = 15</text>\n<text text-anchor=\"start\" x=\"796\" y=\"-364.8\" font-family=\"Helvetica,sans-Serif\" font-size=\"14.00\" fill=\"#000000\">value = [14, 1]</text>\n<text text-anchor=\"start\" x=\"810.5\" y=\"-349.8\" font-family=\"Helvetica,sans-Serif\" font-size=\"14.00\" fill=\"#000000\">class = M</text>\n</g>\n<!-- 20&#45;&gt;21 -->\n<g id=\"edge21\" class=\"edge\">\n<title>20&#45;&gt;21</title>\n<path fill=\"none\" stroke=\"#000000\" d=\"M991.2858,-464.5205C970.9298,-453.5098 948.4731,-441.3627 927.2787,-429.8985\"/>\n<polygon fill=\"#000000\" stroke=\"#000000\" points=\"928.7434,-426.7115 918.2824,-425.0323 925.4129,-432.8685 928.7434,-426.7115\"/>\n</g>\n<!-- 24 -->\n<g id=\"node25\" class=\"node\">\n<title>24</title>\n<path fill=\"#7bbeee\" stroke=\"#000000\" d=\"M1155.5,-425C1155.5,-425 967.5,-425 967.5,-425 961.5,-425 955.5,-419 955.5,-413 955.5,-413 955.5,-354 955.5,-354 955.5,-348 961.5,-342 967.5,-342 967.5,-342 1155.5,-342 1155.5,-342 1161.5,-342 1167.5,-348 1167.5,-354 1167.5,-354 1167.5,-413 1167.5,-413 1167.5,-419 1161.5,-425 1155.5,-425\"/>\n<text text-anchor=\"start\" x=\"963.5\" y=\"-409.8\" font-family=\"Helvetica,sans-Serif\" font-size=\"14.00\" fill=\"#000000\">concave points_mean ≤ 0.046</text>\n<text text-anchor=\"start\" x=\"1023.5\" y=\"-394.8\" font-family=\"Helvetica,sans-Serif\" font-size=\"14.00\" fill=\"#000000\">gini = 0.375</text>\n<text text-anchor=\"start\" x=\"1022\" y=\"-379.8\" font-family=\"Helvetica,sans-Serif\" font-size=\"14.00\" fill=\"#000000\">samples = 4</text>\n<text text-anchor=\"start\" x=\"1020\" y=\"-364.8\" font-family=\"Helvetica,sans-Serif\" font-size=\"14.00\" fill=\"#000000\">value = [1, 3]</text>\n<text text-anchor=\"start\" x=\"1030.5\" y=\"-349.8\" font-family=\"Helvetica,sans-Serif\" font-size=\"14.00\" fill=\"#000000\">class = M</text>\n</g>\n<!-- 20&#45;&gt;24 -->\n<g id=\"edge24\" class=\"edge\">\n<title>20&#45;&gt;24</title>\n<path fill=\"none\" stroke=\"#000000\" d=\"M1061.5,-460.8796C1061.5,-452.6838 1061.5,-443.9891 1061.5,-435.5013\"/>\n<polygon fill=\"#000000\" stroke=\"#000000\" points=\"1065.0001,-435.298 1061.5,-425.2981 1058.0001,-435.2981 1065.0001,-435.298\"/>\n</g>\n<!-- 22 -->\n<g id=\"node23\" class=\"node\">\n<title>22</title>\n<path fill=\"#e58139\" stroke=\"#000000\" d=\"M837,-298.5C837,-298.5 754,-298.5 754,-298.5 748,-298.5 742,-292.5 742,-286.5 742,-286.5 742,-242.5 742,-242.5 742,-236.5 748,-230.5 754,-230.5 754,-230.5 837,-230.5 837,-230.5 843,-230.5 849,-236.5 849,-242.5 849,-242.5 849,-286.5 849,-286.5 849,-292.5 843,-298.5 837,-298.5\"/>\n<text text-anchor=\"start\" x=\"766\" y=\"-283.3\" font-family=\"Helvetica,sans-Serif\" font-size=\"14.00\" fill=\"#000000\">gini = 0.0</text>\n<text text-anchor=\"start\" x=\"751.5\" y=\"-268.3\" font-family=\"Helvetica,sans-Serif\" font-size=\"14.00\" fill=\"#000000\">samples = 14</text>\n<text text-anchor=\"start\" x=\"750\" y=\"-253.3\" font-family=\"Helvetica,sans-Serif\" font-size=\"14.00\" fill=\"#000000\">value = [14, 0]</text>\n<text text-anchor=\"start\" x=\"764.5\" y=\"-238.3\" font-family=\"Helvetica,sans-Serif\" font-size=\"14.00\" fill=\"#000000\">class = M</text>\n</g>\n<!-- 21&#45;&gt;22 -->\n<g id=\"edge22\" class=\"edge\">\n<title>21&#45;&gt;22</title>\n<path fill=\"none\" stroke=\"#000000\" d=\"M825.4114,-341.8796C821.2034,-330.9935 816.655,-319.227 812.4057,-308.2344\"/>\n<polygon fill=\"#000000\" stroke=\"#000000\" points=\"815.6348,-306.8804 808.7646,-298.8149 809.1056,-309.4043 815.6348,-306.8804\"/>\n</g>\n<!-- 23 -->\n<g id=\"node24\" class=\"node\">\n<title>23</title>\n<path fill=\"#399de5\" stroke=\"#000000\" d=\"M954,-298.5C954,-298.5 879,-298.5 879,-298.5 873,-298.5 867,-292.5 867,-286.5 867,-286.5 867,-242.5 867,-242.5 867,-236.5 873,-230.5 879,-230.5 879,-230.5 954,-230.5 954,-230.5 960,-230.5 966,-236.5 966,-242.5 966,-242.5 966,-286.5 966,-286.5 966,-292.5 960,-298.5 954,-298.5\"/>\n<text text-anchor=\"start\" x=\"887\" y=\"-283.3\" font-family=\"Helvetica,sans-Serif\" font-size=\"14.00\" fill=\"#000000\">gini = 0.0</text>\n<text text-anchor=\"start\" x=\"877\" y=\"-268.3\" font-family=\"Helvetica,sans-Serif\" font-size=\"14.00\" fill=\"#000000\">samples = 1</text>\n<text text-anchor=\"start\" x=\"875\" y=\"-253.3\" font-family=\"Helvetica,sans-Serif\" font-size=\"14.00\" fill=\"#000000\">value = [0, 1]</text>\n<text text-anchor=\"start\" x=\"885.5\" y=\"-238.3\" font-family=\"Helvetica,sans-Serif\" font-size=\"14.00\" fill=\"#000000\">class = M</text>\n</g>\n<!-- 21&#45;&gt;23 -->\n<g id=\"edge23\" class=\"edge\">\n<title>21&#45;&gt;23</title>\n<path fill=\"none\" stroke=\"#000000\" d=\"M867.7314,-341.8796C874.731,-330.7735 882.308,-318.7513 889.3556,-307.5691\"/>\n<polygon fill=\"#000000\" stroke=\"#000000\" points=\"892.502,-309.1411 894.8729,-298.8149 886.58,-305.4087 892.502,-309.1411\"/>\n</g>\n<!-- 25 -->\n<g id=\"node26\" class=\"node\">\n<title>25</title>\n<path fill=\"#e58139\" stroke=\"#000000\" d=\"M1071,-298.5C1071,-298.5 996,-298.5 996,-298.5 990,-298.5 984,-292.5 984,-286.5 984,-286.5 984,-242.5 984,-242.5 984,-236.5 990,-230.5 996,-230.5 996,-230.5 1071,-230.5 1071,-230.5 1077,-230.5 1083,-236.5 1083,-242.5 1083,-242.5 1083,-286.5 1083,-286.5 1083,-292.5 1077,-298.5 1071,-298.5\"/>\n<text text-anchor=\"start\" x=\"1004\" y=\"-283.3\" font-family=\"Helvetica,sans-Serif\" font-size=\"14.00\" fill=\"#000000\">gini = 0.0</text>\n<text text-anchor=\"start\" x=\"994\" y=\"-268.3\" font-family=\"Helvetica,sans-Serif\" font-size=\"14.00\" fill=\"#000000\">samples = 1</text>\n<text text-anchor=\"start\" x=\"992\" y=\"-253.3\" font-family=\"Helvetica,sans-Serif\" font-size=\"14.00\" fill=\"#000000\">value = [1, 0]</text>\n<text text-anchor=\"start\" x=\"1002.5\" y=\"-238.3\" font-family=\"Helvetica,sans-Serif\" font-size=\"14.00\" fill=\"#000000\">class = M</text>\n</g>\n<!-- 24&#45;&gt;25 -->\n<g id=\"edge25\" class=\"edge\">\n<title>24&#45;&gt;25</title>\n<path fill=\"none\" stroke=\"#000000\" d=\"M1051.707,-341.8796C1049.1714,-331.1034 1046.4329,-319.4647 1043.8689,-308.5677\"/>\n<polygon fill=\"#000000\" stroke=\"#000000\" points=\"1047.2715,-307.7474 1041.5741,-298.8149 1040.4576,-309.3508 1047.2715,-307.7474\"/>\n</g>\n<!-- 26 -->\n<g id=\"node27\" class=\"node\">\n<title>26</title>\n<path fill=\"#399de5\" stroke=\"#000000\" d=\"M1188,-298.5C1188,-298.5 1113,-298.5 1113,-298.5 1107,-298.5 1101,-292.5 1101,-286.5 1101,-286.5 1101,-242.5 1101,-242.5 1101,-236.5 1107,-230.5 1113,-230.5 1113,-230.5 1188,-230.5 1188,-230.5 1194,-230.5 1200,-236.5 1200,-242.5 1200,-242.5 1200,-286.5 1200,-286.5 1200,-292.5 1194,-298.5 1188,-298.5\"/>\n<text text-anchor=\"start\" x=\"1121\" y=\"-283.3\" font-family=\"Helvetica,sans-Serif\" font-size=\"14.00\" fill=\"#000000\">gini = 0.0</text>\n<text text-anchor=\"start\" x=\"1111\" y=\"-268.3\" font-family=\"Helvetica,sans-Serif\" font-size=\"14.00\" fill=\"#000000\">samples = 3</text>\n<text text-anchor=\"start\" x=\"1109\" y=\"-253.3\" font-family=\"Helvetica,sans-Serif\" font-size=\"14.00\" fill=\"#000000\">value = [0, 3]</text>\n<text text-anchor=\"start\" x=\"1119.5\" y=\"-238.3\" font-family=\"Helvetica,sans-Serif\" font-size=\"14.00\" fill=\"#000000\">class = M</text>\n</g>\n<!-- 24&#45;&gt;26 -->\n<g id=\"edge26\" class=\"edge\">\n<title>24&#45;&gt;26</title>\n<path fill=\"none\" stroke=\"#000000\" d=\"M1092.6279,-341.8796C1101.0986,-330.5536 1110.2819,-318.2748 1118.7847,-306.9058\"/>\n<polygon fill=\"#000000\" stroke=\"#000000\" points=\"1121.6495,-308.9193 1124.8359,-298.8149 1116.0438,-304.7268 1121.6495,-308.9193\"/>\n</g>\n<!-- 28 -->\n<g id=\"node29\" class=\"node\">\n<title>28</title>\n<path fill=\"#ffffff\" stroke=\"#000000\" d=\"M1337.5,-425C1337.5,-425 1197.5,-425 1197.5,-425 1191.5,-425 1185.5,-419 1185.5,-413 1185.5,-413 1185.5,-354 1185.5,-354 1185.5,-348 1191.5,-342 1197.5,-342 1197.5,-342 1337.5,-342 1337.5,-342 1343.5,-342 1349.5,-348 1349.5,-354 1349.5,-354 1349.5,-413 1349.5,-413 1349.5,-419 1343.5,-425 1337.5,-425\"/>\n<text text-anchor=\"start\" x=\"1193.5\" y=\"-409.8\" font-family=\"Helvetica,sans-Serif\" font-size=\"14.00\" fill=\"#000000\">texture_worst ≤ 28.545</text>\n<text text-anchor=\"start\" x=\"1238\" y=\"-394.8\" font-family=\"Helvetica,sans-Serif\" font-size=\"14.00\" fill=\"#000000\">gini = 0.5</text>\n<text text-anchor=\"start\" x=\"1228\" y=\"-379.8\" font-family=\"Helvetica,sans-Serif\" font-size=\"14.00\" fill=\"#000000\">samples = 6</text>\n<text text-anchor=\"start\" x=\"1226\" y=\"-364.8\" font-family=\"Helvetica,sans-Serif\" font-size=\"14.00\" fill=\"#000000\">value = [3, 3]</text>\n<text text-anchor=\"start\" x=\"1236.5\" y=\"-349.8\" font-family=\"Helvetica,sans-Serif\" font-size=\"14.00\" fill=\"#000000\">class = M</text>\n</g>\n<!-- 27&#45;&gt;28 -->\n<g id=\"edge28\" class=\"edge\">\n<title>27&#45;&gt;28</title>\n<path fill=\"none\" stroke=\"#000000\" d=\"M1263.5985,-460.8796C1264.0117,-452.6838 1264.4501,-443.9891 1264.8781,-435.5013\"/>\n<polygon fill=\"#000000\" stroke=\"#000000\" points=\"1268.3844,-435.4617 1265.3925,-425.2981 1261.3933,-435.1091 1268.3844,-435.4617\"/>\n</g>\n<!-- 31 -->\n<g id=\"node32\" class=\"node\">\n<title>31</title>\n<path fill=\"#399de5\" stroke=\"#000000\" d=\"M1463,-417.5C1463,-417.5 1380,-417.5 1380,-417.5 1374,-417.5 1368,-411.5 1368,-405.5 1368,-405.5 1368,-361.5 1368,-361.5 1368,-355.5 1374,-349.5 1380,-349.5 1380,-349.5 1463,-349.5 1463,-349.5 1469,-349.5 1475,-355.5 1475,-361.5 1475,-361.5 1475,-405.5 1475,-405.5 1475,-411.5 1469,-417.5 1463,-417.5\"/>\n<text text-anchor=\"start\" x=\"1392\" y=\"-402.3\" font-family=\"Helvetica,sans-Serif\" font-size=\"14.00\" fill=\"#000000\">gini = 0.0</text>\n<text text-anchor=\"start\" x=\"1377.5\" y=\"-387.3\" font-family=\"Helvetica,sans-Serif\" font-size=\"14.00\" fill=\"#000000\">samples = 21</text>\n<text text-anchor=\"start\" x=\"1376\" y=\"-372.3\" font-family=\"Helvetica,sans-Serif\" font-size=\"14.00\" fill=\"#000000\">value = [0, 21]</text>\n<text text-anchor=\"start\" x=\"1390.5\" y=\"-357.3\" font-family=\"Helvetica,sans-Serif\" font-size=\"14.00\" fill=\"#000000\">class = M</text>\n</g>\n<!-- 27&#45;&gt;31 -->\n<g id=\"edge31\" class=\"edge\">\n<title>27&#45;&gt;31</title>\n<path fill=\"none\" stroke=\"#000000\" d=\"M1317.4602,-460.8796C1333.6522,-448.8368 1351.2927,-435.7167 1367.3708,-423.7586\"/>\n<polygon fill=\"#000000\" stroke=\"#000000\" points=\"1369.685,-426.3993 1375.6203,-417.623 1365.5075,-420.7825 1369.685,-426.3993\"/>\n</g>\n<!-- 29 -->\n<g id=\"node30\" class=\"node\">\n<title>29</title>\n<path fill=\"#e58139\" stroke=\"#000000\" d=\"M1305,-298.5C1305,-298.5 1230,-298.5 1230,-298.5 1224,-298.5 1218,-292.5 1218,-286.5 1218,-286.5 1218,-242.5 1218,-242.5 1218,-236.5 1224,-230.5 1230,-230.5 1230,-230.5 1305,-230.5 1305,-230.5 1311,-230.5 1317,-236.5 1317,-242.5 1317,-242.5 1317,-286.5 1317,-286.5 1317,-292.5 1311,-298.5 1305,-298.5\"/>\n<text text-anchor=\"start\" x=\"1238\" y=\"-283.3\" font-family=\"Helvetica,sans-Serif\" font-size=\"14.00\" fill=\"#000000\">gini = 0.0</text>\n<text text-anchor=\"start\" x=\"1228\" y=\"-268.3\" font-family=\"Helvetica,sans-Serif\" font-size=\"14.00\" fill=\"#000000\">samples = 3</text>\n<text text-anchor=\"start\" x=\"1226\" y=\"-253.3\" font-family=\"Helvetica,sans-Serif\" font-size=\"14.00\" fill=\"#000000\">value = [3, 0]</text>\n<text text-anchor=\"start\" x=\"1236.5\" y=\"-238.3\" font-family=\"Helvetica,sans-Serif\" font-size=\"14.00\" fill=\"#000000\">class = M</text>\n</g>\n<!-- 28&#45;&gt;29 -->\n<g id=\"edge29\" class=\"edge\">\n<title>28&#45;&gt;29</title>\n<path fill=\"none\" stroke=\"#000000\" d=\"M1267.5,-341.8796C1267.5,-331.2134 1267.5,-319.7021 1267.5,-308.9015\"/>\n<polygon fill=\"#000000\" stroke=\"#000000\" points=\"1271.0001,-308.8149 1267.5,-298.8149 1264.0001,-308.815 1271.0001,-308.8149\"/>\n</g>\n<!-- 30 -->\n<g id=\"node31\" class=\"node\">\n<title>30</title>\n<path fill=\"#399de5\" stroke=\"#000000\" d=\"M1422,-298.5C1422,-298.5 1347,-298.5 1347,-298.5 1341,-298.5 1335,-292.5 1335,-286.5 1335,-286.5 1335,-242.5 1335,-242.5 1335,-236.5 1341,-230.5 1347,-230.5 1347,-230.5 1422,-230.5 1422,-230.5 1428,-230.5 1434,-236.5 1434,-242.5 1434,-242.5 1434,-286.5 1434,-286.5 1434,-292.5 1428,-298.5 1422,-298.5\"/>\n<text text-anchor=\"start\" x=\"1355\" y=\"-283.3\" font-family=\"Helvetica,sans-Serif\" font-size=\"14.00\" fill=\"#000000\">gini = 0.0</text>\n<text text-anchor=\"start\" x=\"1345\" y=\"-268.3\" font-family=\"Helvetica,sans-Serif\" font-size=\"14.00\" fill=\"#000000\">samples = 3</text>\n<text text-anchor=\"start\" x=\"1343\" y=\"-253.3\" font-family=\"Helvetica,sans-Serif\" font-size=\"14.00\" fill=\"#000000\">value = [0, 3]</text>\n<text text-anchor=\"start\" x=\"1353.5\" y=\"-238.3\" font-family=\"Helvetica,sans-Serif\" font-size=\"14.00\" fill=\"#000000\">class = M</text>\n</g>\n<!-- 28&#45;&gt;30 -->\n<g id=\"edge30\" class=\"edge\">\n<title>28&#45;&gt;30</title>\n<path fill=\"none\" stroke=\"#000000\" d=\"M1308.4209,-341.8796C1319.7728,-330.3337 1332.0982,-317.7976 1343.457,-306.2446\"/>\n<polygon fill=\"#000000\" stroke=\"#000000\" points=\"1346.2466,-308.3995 1350.7618,-298.8149 1341.2551,-303.4919 1346.2466,-308.3995\"/>\n</g>\n<!-- 33 -->\n<g id=\"node34\" class=\"node\">\n<title>33</title>\n<path fill=\"#fcf1e9\" stroke=\"#000000\" d=\"M1521.5,-663C1521.5,-663 1391.5,-663 1391.5,-663 1385.5,-663 1379.5,-657 1379.5,-651 1379.5,-651 1379.5,-592 1379.5,-592 1379.5,-586 1385.5,-580 1391.5,-580 1391.5,-580 1521.5,-580 1521.5,-580 1527.5,-580 1533.5,-586 1533.5,-592 1533.5,-592 1533.5,-651 1533.5,-651 1533.5,-657 1527.5,-663 1521.5,-663\"/>\n<text text-anchor=\"start\" x=\"1387.5\" y=\"-647.8\" font-family=\"Helvetica,sans-Serif\" font-size=\"14.00\" fill=\"#000000\">concavity_se ≤ 0.034</text>\n<text text-anchor=\"start\" x=\"1418.5\" y=\"-632.8\" font-family=\"Helvetica,sans-Serif\" font-size=\"14.00\" fill=\"#000000\">gini = 0.498</text>\n<text text-anchor=\"start\" x=\"1412.5\" y=\"-617.8\" font-family=\"Helvetica,sans-Serif\" font-size=\"14.00\" fill=\"#000000\">samples = 17</text>\n<text text-anchor=\"start\" x=\"1415\" y=\"-602.8\" font-family=\"Helvetica,sans-Serif\" font-size=\"14.00\" fill=\"#000000\">value = [9, 8]</text>\n<text text-anchor=\"start\" x=\"1425.5\" y=\"-587.8\" font-family=\"Helvetica,sans-Serif\" font-size=\"14.00\" fill=\"#000000\">class = M</text>\n</g>\n<!-- 32&#45;&gt;33 -->\n<g id=\"edge33\" class=\"edge\">\n<title>32&#45;&gt;33</title>\n<path fill=\"none\" stroke=\"#000000\" d=\"M1456.5,-698.8796C1456.5,-690.6838 1456.5,-681.9891 1456.5,-673.5013\"/>\n<polygon fill=\"#000000\" stroke=\"#000000\" points=\"1460.0001,-673.298 1456.5,-663.2981 1453.0001,-673.2981 1460.0001,-673.298\"/>\n</g>\n<!-- 36 -->\n<g id=\"node37\" class=\"node\">\n<title>36</title>\n<path fill=\"#3b9ee5\" stroke=\"#000000\" d=\"M1753,-663C1753,-663 1586,-663 1586,-663 1580,-663 1574,-657 1574,-651 1574,-651 1574,-592 1574,-592 1574,-586 1580,-580 1586,-580 1586,-580 1753,-580 1753,-580 1759,-580 1765,-586 1765,-592 1765,-592 1765,-651 1765,-651 1765,-657 1759,-663 1753,-663\"/>\n<text text-anchor=\"start\" x=\"1582\" y=\"-647.8\" font-family=\"Helvetica,sans-Serif\" font-size=\"14.00\" fill=\"#000000\">smoothness_worst ≤ 0.088</text>\n<text text-anchor=\"start\" x=\"1631.5\" y=\"-632.8\" font-family=\"Helvetica,sans-Serif\" font-size=\"14.00\" fill=\"#000000\">gini = 0.023</text>\n<text text-anchor=\"start\" x=\"1621.5\" y=\"-617.8\" font-family=\"Helvetica,sans-Serif\" font-size=\"14.00\" fill=\"#000000\">samples = 173</text>\n<text text-anchor=\"start\" x=\"1619.5\" y=\"-602.8\" font-family=\"Helvetica,sans-Serif\" font-size=\"14.00\" fill=\"#000000\">value = [2, 171]</text>\n<text text-anchor=\"start\" x=\"1638.5\" y=\"-587.8\" font-family=\"Helvetica,sans-Serif\" font-size=\"14.00\" fill=\"#000000\">class = M</text>\n</g>\n<!-- 32&#45;&gt;36 -->\n<g id=\"edge36\" class=\"edge\">\n<title>32&#45;&gt;36</title>\n<path fill=\"none\" stroke=\"#000000\" d=\"M1530.9971,-698.8796C1548.8328,-688.915 1567.9886,-678.2129 1586.1941,-668.0418\"/>\n<polygon fill=\"#000000\" stroke=\"#000000\" points=\"1588.0221,-671.0298 1595.045,-663.0969 1584.608,-664.9188 1588.0221,-671.0298\"/>\n</g>\n<!-- 34 -->\n<g id=\"node35\" class=\"node\">\n<title>34</title>\n<path fill=\"#e58139\" stroke=\"#000000\" d=\"M1473,-536.5C1473,-536.5 1398,-536.5 1398,-536.5 1392,-536.5 1386,-530.5 1386,-524.5 1386,-524.5 1386,-480.5 1386,-480.5 1386,-474.5 1392,-468.5 1398,-468.5 1398,-468.5 1473,-468.5 1473,-468.5 1479,-468.5 1485,-474.5 1485,-480.5 1485,-480.5 1485,-524.5 1485,-524.5 1485,-530.5 1479,-536.5 1473,-536.5\"/>\n<text text-anchor=\"start\" x=\"1406\" y=\"-521.3\" font-family=\"Helvetica,sans-Serif\" font-size=\"14.00\" fill=\"#000000\">gini = 0.0</text>\n<text text-anchor=\"start\" x=\"1396\" y=\"-506.3\" font-family=\"Helvetica,sans-Serif\" font-size=\"14.00\" fill=\"#000000\">samples = 9</text>\n<text text-anchor=\"start\" x=\"1394\" y=\"-491.3\" font-family=\"Helvetica,sans-Serif\" font-size=\"14.00\" fill=\"#000000\">value = [9, 0]</text>\n<text text-anchor=\"start\" x=\"1404.5\" y=\"-476.3\" font-family=\"Helvetica,sans-Serif\" font-size=\"14.00\" fill=\"#000000\">class = M</text>\n</g>\n<!-- 33&#45;&gt;34 -->\n<g id=\"edge34\" class=\"edge\">\n<title>33&#45;&gt;34</title>\n<path fill=\"none\" stroke=\"#000000\" d=\"M1449.1552,-579.8796C1447.2729,-569.2134 1445.2415,-557.7021 1443.3356,-546.9015\"/>\n<polygon fill=\"#000000\" stroke=\"#000000\" points=\"1446.7403,-546.0545 1441.5556,-536.8149 1439.8468,-547.2711 1446.7403,-546.0545\"/>\n</g>\n<!-- 35 -->\n<g id=\"node36\" class=\"node\">\n<title>35</title>\n<path fill=\"#399de5\" stroke=\"#000000\" d=\"M1590,-536.5C1590,-536.5 1515,-536.5 1515,-536.5 1509,-536.5 1503,-530.5 1503,-524.5 1503,-524.5 1503,-480.5 1503,-480.5 1503,-474.5 1509,-468.5 1515,-468.5 1515,-468.5 1590,-468.5 1590,-468.5 1596,-468.5 1602,-474.5 1602,-480.5 1602,-480.5 1602,-524.5 1602,-524.5 1602,-530.5 1596,-536.5 1590,-536.5\"/>\n<text text-anchor=\"start\" x=\"1523\" y=\"-521.3\" font-family=\"Helvetica,sans-Serif\" font-size=\"14.00\" fill=\"#000000\">gini = 0.0</text>\n<text text-anchor=\"start\" x=\"1513\" y=\"-506.3\" font-family=\"Helvetica,sans-Serif\" font-size=\"14.00\" fill=\"#000000\">samples = 8</text>\n<text text-anchor=\"start\" x=\"1511\" y=\"-491.3\" font-family=\"Helvetica,sans-Serif\" font-size=\"14.00\" fill=\"#000000\">value = [0, 8]</text>\n<text text-anchor=\"start\" x=\"1521.5\" y=\"-476.3\" font-family=\"Helvetica,sans-Serif\" font-size=\"14.00\" fill=\"#000000\">class = M</text>\n</g>\n<!-- 33&#45;&gt;35 -->\n<g id=\"edge35\" class=\"edge\">\n<title>33&#45;&gt;35</title>\n<path fill=\"none\" stroke=\"#000000\" d=\"M1490.0761,-579.8796C1499.2131,-568.5536 1509.1187,-556.2748 1518.2902,-544.9058\"/>\n<polygon fill=\"#000000\" stroke=\"#000000\" points=\"1521.2626,-546.7957 1524.8174,-536.8149 1515.8144,-542.4005 1521.2626,-546.7957\"/>\n</g>\n<!-- 37 -->\n<g id=\"node38\" class=\"node\">\n<title>37</title>\n<path fill=\"#e58139\" stroke=\"#000000\" d=\"M1707,-536.5C1707,-536.5 1632,-536.5 1632,-536.5 1626,-536.5 1620,-530.5 1620,-524.5 1620,-524.5 1620,-480.5 1620,-480.5 1620,-474.5 1626,-468.5 1632,-468.5 1632,-468.5 1707,-468.5 1707,-468.5 1713,-468.5 1719,-474.5 1719,-480.5 1719,-480.5 1719,-524.5 1719,-524.5 1719,-530.5 1713,-536.5 1707,-536.5\"/>\n<text text-anchor=\"start\" x=\"1640\" y=\"-521.3\" font-family=\"Helvetica,sans-Serif\" font-size=\"14.00\" fill=\"#000000\">gini = 0.0</text>\n<text text-anchor=\"start\" x=\"1630\" y=\"-506.3\" font-family=\"Helvetica,sans-Serif\" font-size=\"14.00\" fill=\"#000000\">samples = 1</text>\n<text text-anchor=\"start\" x=\"1628\" y=\"-491.3\" font-family=\"Helvetica,sans-Serif\" font-size=\"14.00\" fill=\"#000000\">value = [1, 0]</text>\n<text text-anchor=\"start\" x=\"1638.5\" y=\"-476.3\" font-family=\"Helvetica,sans-Serif\" font-size=\"14.00\" fill=\"#000000\">class = M</text>\n</g>\n<!-- 36&#45;&gt;37 -->\n<g id=\"edge37\" class=\"edge\">\n<title>36&#45;&gt;37</title>\n<path fill=\"none\" stroke=\"#000000\" d=\"M1669.5,-579.8796C1669.5,-569.2134 1669.5,-557.7021 1669.5,-546.9015\"/>\n<polygon fill=\"#000000\" stroke=\"#000000\" points=\"1673.0001,-546.8149 1669.5,-536.8149 1666.0001,-546.815 1673.0001,-546.8149\"/>\n</g>\n<!-- 38 -->\n<g id=\"node39\" class=\"node\">\n<title>38</title>\n<path fill=\"#3a9ee5\" stroke=\"#000000\" d=\"M1889.5,-544C1889.5,-544 1749.5,-544 1749.5,-544 1743.5,-544 1737.5,-538 1737.5,-532 1737.5,-532 1737.5,-473 1737.5,-473 1737.5,-467 1743.5,-461 1749.5,-461 1749.5,-461 1889.5,-461 1889.5,-461 1895.5,-461 1901.5,-467 1901.5,-473 1901.5,-473 1901.5,-532 1901.5,-532 1901.5,-538 1895.5,-544 1889.5,-544\"/>\n<text text-anchor=\"start\" x=\"1745.5\" y=\"-528.8\" font-family=\"Helvetica,sans-Serif\" font-size=\"14.00\" fill=\"#000000\">concavity_worst ≤ 0.18</text>\n<text text-anchor=\"start\" x=\"1781.5\" y=\"-513.8\" font-family=\"Helvetica,sans-Serif\" font-size=\"14.00\" fill=\"#000000\">gini = 0.012</text>\n<text text-anchor=\"start\" x=\"1771.5\" y=\"-498.8\" font-family=\"Helvetica,sans-Serif\" font-size=\"14.00\" fill=\"#000000\">samples = 172</text>\n<text text-anchor=\"start\" x=\"1769.5\" y=\"-483.8\" font-family=\"Helvetica,sans-Serif\" font-size=\"14.00\" fill=\"#000000\">value = [1, 171]</text>\n<text text-anchor=\"start\" x=\"1788.5\" y=\"-468.8\" font-family=\"Helvetica,sans-Serif\" font-size=\"14.00\" fill=\"#000000\">class = M</text>\n</g>\n<!-- 36&#45;&gt;38 -->\n<g id=\"edge38\" class=\"edge\">\n<title>36&#45;&gt;38</title>\n<path fill=\"none\" stroke=\"#000000\" d=\"M1721.9627,-579.8796C1733.9521,-570.368 1746.7887,-560.1843 1759.0816,-550.432\"/>\n<polygon fill=\"#000000\" stroke=\"#000000\" points=\"1761.4081,-553.054 1767.0669,-544.0969 1757.0575,-547.5701 1761.4081,-553.054\"/>\n</g>\n<!-- 39 -->\n<g id=\"node40\" class=\"node\">\n<title>39</title>\n<path fill=\"#7bbeee\" stroke=\"#000000\" d=\"M1813.5,-425C1813.5,-425 1661.5,-425 1661.5,-425 1655.5,-425 1649.5,-419 1649.5,-413 1649.5,-413 1649.5,-354 1649.5,-354 1649.5,-348 1655.5,-342 1661.5,-342 1661.5,-342 1813.5,-342 1813.5,-342 1819.5,-342 1825.5,-348 1825.5,-354 1825.5,-354 1825.5,-413 1825.5,-413 1825.5,-419 1819.5,-425 1813.5,-425\"/>\n<text text-anchor=\"start\" x=\"1657.5\" y=\"-409.8\" font-family=\"Helvetica,sans-Serif\" font-size=\"14.00\" fill=\"#000000\">symmetry_mean ≤ 0.151</text>\n<text text-anchor=\"start\" x=\"1699.5\" y=\"-394.8\" font-family=\"Helvetica,sans-Serif\" font-size=\"14.00\" fill=\"#000000\">gini = 0.375</text>\n<text text-anchor=\"start\" x=\"1698\" y=\"-379.8\" font-family=\"Helvetica,sans-Serif\" font-size=\"14.00\" fill=\"#000000\">samples = 4</text>\n<text text-anchor=\"start\" x=\"1696\" y=\"-364.8\" font-family=\"Helvetica,sans-Serif\" font-size=\"14.00\" fill=\"#000000\">value = [1, 3]</text>\n<text text-anchor=\"start\" x=\"1706.5\" y=\"-349.8\" font-family=\"Helvetica,sans-Serif\" font-size=\"14.00\" fill=\"#000000\">class = M</text>\n</g>\n<!-- 38&#45;&gt;39 -->\n<g id=\"edge39\" class=\"edge\">\n<title>38&#45;&gt;39</title>\n<path fill=\"none\" stroke=\"#000000\" d=\"M1790.8204,-460.8796C1784.7385,-452.0534 1778.2578,-442.6485 1771.9859,-433.5466\"/>\n<polygon fill=\"#000000\" stroke=\"#000000\" points=\"1774.8582,-431.5465 1766.302,-425.2981 1769.0941,-435.5184 1774.8582,-431.5465\"/>\n</g>\n<!-- 42 -->\n<g id=\"node43\" class=\"node\">\n<title>42</title>\n<path fill=\"#399de5\" stroke=\"#000000\" d=\"M1947.5,-417.5C1947.5,-417.5 1855.5,-417.5 1855.5,-417.5 1849.5,-417.5 1843.5,-411.5 1843.5,-405.5 1843.5,-405.5 1843.5,-361.5 1843.5,-361.5 1843.5,-355.5 1849.5,-349.5 1855.5,-349.5 1855.5,-349.5 1947.5,-349.5 1947.5,-349.5 1953.5,-349.5 1959.5,-355.5 1959.5,-361.5 1959.5,-361.5 1959.5,-405.5 1959.5,-405.5 1959.5,-411.5 1953.5,-417.5 1947.5,-417.5\"/>\n<text text-anchor=\"start\" x=\"1872\" y=\"-402.3\" font-family=\"Helvetica,sans-Serif\" font-size=\"14.00\" fill=\"#000000\">gini = 0.0</text>\n<text text-anchor=\"start\" x=\"1853.5\" y=\"-387.3\" font-family=\"Helvetica,sans-Serif\" font-size=\"14.00\" fill=\"#000000\">samples = 168</text>\n<text text-anchor=\"start\" x=\"1851.5\" y=\"-372.3\" font-family=\"Helvetica,sans-Serif\" font-size=\"14.00\" fill=\"#000000\">value = [0, 168]</text>\n<text text-anchor=\"start\" x=\"1870.5\" y=\"-357.3\" font-family=\"Helvetica,sans-Serif\" font-size=\"14.00\" fill=\"#000000\">class = M</text>\n</g>\n<!-- 38&#45;&gt;42 -->\n<g id=\"edge42\" class=\"edge\">\n<title>38&#45;&gt;42</title>\n<path fill=\"none\" stroke=\"#000000\" d=\"M1848.1796,-460.8796C1855.9083,-449.6636 1864.2809,-437.5131 1872.0508,-426.2372\"/>\n<polygon fill=\"#000000\" stroke=\"#000000\" points=\"1875.0623,-428.0353 1877.8544,-417.8149 1869.2982,-424.0634 1875.0623,-428.0353\"/>\n</g>\n<!-- 40 -->\n<g id=\"node41\" class=\"node\">\n<title>40</title>\n<path fill=\"#e58139\" stroke=\"#000000\" d=\"M1717,-298.5C1717,-298.5 1642,-298.5 1642,-298.5 1636,-298.5 1630,-292.5 1630,-286.5 1630,-286.5 1630,-242.5 1630,-242.5 1630,-236.5 1636,-230.5 1642,-230.5 1642,-230.5 1717,-230.5 1717,-230.5 1723,-230.5 1729,-236.5 1729,-242.5 1729,-242.5 1729,-286.5 1729,-286.5 1729,-292.5 1723,-298.5 1717,-298.5\"/>\n<text text-anchor=\"start\" x=\"1650\" y=\"-283.3\" font-family=\"Helvetica,sans-Serif\" font-size=\"14.00\" fill=\"#000000\">gini = 0.0</text>\n<text text-anchor=\"start\" x=\"1640\" y=\"-268.3\" font-family=\"Helvetica,sans-Serif\" font-size=\"14.00\" fill=\"#000000\">samples = 1</text>\n<text text-anchor=\"start\" x=\"1638\" y=\"-253.3\" font-family=\"Helvetica,sans-Serif\" font-size=\"14.00\" fill=\"#000000\">value = [1, 0]</text>\n<text text-anchor=\"start\" x=\"1648.5\" y=\"-238.3\" font-family=\"Helvetica,sans-Serif\" font-size=\"14.00\" fill=\"#000000\">class = M</text>\n</g>\n<!-- 39&#45;&gt;40 -->\n<g id=\"edge40\" class=\"edge\">\n<title>39&#45;&gt;40</title>\n<path fill=\"none\" stroke=\"#000000\" d=\"M1717.2144,-341.8796C1711.855,-330.8835 1706.0578,-318.9893 1700.6537,-307.9015\"/>\n<polygon fill=\"#000000\" stroke=\"#000000\" points=\"1703.7524,-306.2706 1696.2249,-298.8149 1697.46,-309.3375 1703.7524,-306.2706\"/>\n</g>\n<!-- 41 -->\n<g id=\"node42\" class=\"node\">\n<title>41</title>\n<path fill=\"#399de5\" stroke=\"#000000\" d=\"M1834,-298.5C1834,-298.5 1759,-298.5 1759,-298.5 1753,-298.5 1747,-292.5 1747,-286.5 1747,-286.5 1747,-242.5 1747,-242.5 1747,-236.5 1753,-230.5 1759,-230.5 1759,-230.5 1834,-230.5 1834,-230.5 1840,-230.5 1846,-236.5 1846,-242.5 1846,-242.5 1846,-286.5 1846,-286.5 1846,-292.5 1840,-298.5 1834,-298.5\"/>\n<text text-anchor=\"start\" x=\"1767\" y=\"-283.3\" font-family=\"Helvetica,sans-Serif\" font-size=\"14.00\" fill=\"#000000\">gini = 0.0</text>\n<text text-anchor=\"start\" x=\"1757\" y=\"-268.3\" font-family=\"Helvetica,sans-Serif\" font-size=\"14.00\" fill=\"#000000\">samples = 3</text>\n<text text-anchor=\"start\" x=\"1755\" y=\"-253.3\" font-family=\"Helvetica,sans-Serif\" font-size=\"14.00\" fill=\"#000000\">value = [0, 3]</text>\n<text text-anchor=\"start\" x=\"1765.5\" y=\"-238.3\" font-family=\"Helvetica,sans-Serif\" font-size=\"14.00\" fill=\"#000000\">class = M</text>\n</g>\n<!-- 39&#45;&gt;41 -->\n<g id=\"edge41\" class=\"edge\">\n<title>39&#45;&gt;41</title>\n<path fill=\"none\" stroke=\"#000000\" d=\"M1758.1353,-341.8796C1763.5872,-330.8835 1769.4843,-318.9893 1774.9816,-307.9015\"/>\n<polygon fill=\"#000000\" stroke=\"#000000\" points=\"1778.1804,-309.3289 1779.4867,-298.8149 1771.9089,-306.2195 1778.1804,-309.3289\"/>\n</g>\n</g>\n</svg>\n"
          },
          "metadata": {},
          "execution_count": 60
        }
      ]
    }
  ]
}